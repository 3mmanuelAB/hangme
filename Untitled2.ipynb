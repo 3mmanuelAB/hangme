{
 "cells": [
  {
   "cell_type": "code",
   "execution_count": null,
   "metadata": {},
   "outputs": [],
   "source": [
    "price = 20.0 # float\n",
    "quantity = 5"
   ]
  },
  {
   "cell_type": "code",
   "execution_count": null,
   "metadata": {},
   "outputs": [],
   "source": [
    "total = price * quantity\n",
    "print(total)"
   ]
  },
  {
   "cell_type": "code",
   "execution_count": null,
   "metadata": {},
   "outputs": [],
   "source": [
    "names = ['Ade', 'Bola', 'Cathy']\n",
    "ages = [60, 13, 21]"
   ]
  },
  {
   "cell_type": "code",
   "execution_count": null,
   "metadata": {},
   "outputs": [],
   "source": [
    "population = dict([\n",
    "    ('Ade', 60),\n",
    "    ('Bola', 13),\n",
    "    ('Cathy', 21)\n",
    "])\n",
    "print(population)"
   ]
  },
  {
   "cell_type": "code",
   "execution_count": null,
   "metadata": {},
   "outputs": [],
   "source": [
    "# zip\n",
    "help(zip)"
   ]
  },
  {
   "cell_type": "code",
   "execution_count": null,
   "metadata": {},
   "outputs": [],
   "source": [
    "zip(names, ages)"
   ]
  },
  {
   "cell_type": "code",
   "execution_count": null,
   "metadata": {},
   "outputs": [],
   "source": [
    "dict(zip(names, ages))"
   ]
  },
  {
   "cell_type": "code",
   "execution_count": null,
   "metadata": {},
   "outputs": [],
   "source": [
    "population = dict(zip(names, ages))\n",
    "print(population)"
   ]
  },
  {
   "cell_type": "code",
   "execution_count": null,
   "metadata": {
    "scrolled": true
   },
   "outputs": [],
   "source": [
    "population * 365"
   ]
  },
  {
   "cell_type": "code",
   "execution_count": null,
   "metadata": {},
   "outputs": [],
   "source": [
    "# LOOP through a dictionary\n",
    "for citizen in population:\n",
    "    print(citizen)"
   ]
  },
  {
   "cell_type": "code",
   "execution_count": null,
   "metadata": {},
   "outputs": [],
   "source": [
    "for citizen in population:\n",
    "    print(population[citizen])"
   ]
  },
  {
   "cell_type": "code",
   "execution_count": null,
   "metadata": {},
   "outputs": [],
   "source": [
    "for citizen in population:\n",
    "    print(f\"{citizen} is {population[citizen]} years old\")"
   ]
  },
  {
   "cell_type": "code",
   "execution_count": null,
   "metadata": {},
   "outputs": [],
   "source": [
    "for citizen in population:\n",
    "    print(f\"{citizen} is {population[citizen] * 365} days old\")"
   ]
  },
  {
   "cell_type": "code",
   "execution_count": null,
   "metadata": {},
   "outputs": [],
   "source": [
    "# Conditionals\n",
    "# if a value meets a condition\n",
    "# perform an action"
   ]
  },
  {
   "cell_type": "code",
   "execution_count": null,
   "metadata": {},
   "outputs": [],
   "source": [
    "population['Ade']"
   ]
  },
  {
   "cell_type": "code",
   "execution_count": null,
   "metadata": {},
   "outputs": [],
   "source": [
    "population['Ade'] > 18"
   ]
  },
  {
   "cell_type": "code",
   "execution_count": null,
   "metadata": {},
   "outputs": [],
   "source": [
    "population['Bola'] > 18"
   ]
  },
  {
   "cell_type": "code",
   "execution_count": null,
   "metadata": {},
   "outputs": [],
   "source": [
    "# Conditionals\n",
    "# == test for equality\n",
    "# >  greater than\n",
    "# < less than\n",
    "# >=\n",
    "# <=\n",
    "# != not equal to"
   ]
  },
  {
   "cell_type": "code",
   "execution_count": null,
   "metadata": {},
   "outputs": [],
   "source": [
    "for citizen in population:\n",
    "    age = population[citizen]\n",
    "    if age >= 18:\n",
    "        print(f\"{citizen} is entitled to alcohol\")\n",
    "    else:\n",
    "        print(f\"{citizen} is not entitled to alcohol\")"
   ]
  },
  {
   "cell_type": "code",
   "execution_count": null,
   "metadata": {},
   "outputs": [],
   "source": [
    "# Business rule\n",
    "# If you're 60 and above, cigarettes are dangerous to your health\n",
    "# If you're under 18, you are not even entitled to cigarettes"
   ]
  },
  {
   "cell_type": "code",
   "execution_count": null,
   "metadata": {},
   "outputs": [],
   "source": [
    "population"
   ]
  },
  {
   "cell_type": "code",
   "execution_count": null,
   "metadata": {},
   "outputs": [],
   "source": [
    "# If age > 60\n",
    "# advise to stop taking cigarettes\n",
    "# if age is less than 60 but greater than 18\n",
    "# allow to take cigarettes\n",
    "# If age is less than 18\n",
    "# ban from taking cigarettes"
   ]
  },
  {
   "cell_type": "code",
   "execution_count": null,
   "metadata": {},
   "outputs": [],
   "source": [
    "for person in population:\n",
    "    print(person)"
   ]
  },
  {
   "cell_type": "code",
   "execution_count": null,
   "metadata": {},
   "outputs": [],
   "source": [
    "for person in population:\n",
    "    print(population[person])"
   ]
  },
  {
   "cell_type": "code",
   "execution_count": null,
   "metadata": {},
   "outputs": [],
   "source": [
    "for person in population:\n",
    "    age = population[person]\n",
    "    if age >= 60:\n",
    "        print(f\"{person} is too old for cigrattes because he is {population[person]}\")"
   ]
  },
  {
   "cell_type": "code",
   "execution_count": null,
   "metadata": {},
   "outputs": [],
   "source": [
    "for person in population:\n",
    "    age = population[person]\n",
    "    if age >= 60:\n",
    "        print(f\"{person} is too old for cigrattes because he is {population[person]}\")\n",
    "    elif (age < 60) and (age >= 18): # between 18 (inclusive) and 60 (exclusive)\n",
    "        print(f\"{person} is allowed to take cigarettes\")"
   ]
  },
  {
   "cell_type": "code",
   "execution_count": null,
   "metadata": {},
   "outputs": [],
   "source": [
    "for person in population:\n",
    "    age = population[person]\n",
    "    if age >= 60:\n",
    "        print(f\"{person} is too old for cigrattes because he is {population[person]}\")\n",
    "    elif (age < 60) and (age >= 18): # between 18 (inclusive) and 60 (exclusive)\n",
    "        print(f\"{person} is allowed to take cigarettes\")\n",
    "    else:\n",
    "        print(f\"{person} is too young for cigarettes\")"
   ]
  },
  {
   "cell_type": "code",
   "execution_count": null,
   "metadata": {},
   "outputs": [],
   "source": [
    "for person in population:\n",
    "    age = population[person]\n",
    "    if age >= 60:\n",
    "        print(f\"{person} is too old for cigrattes because he is {population[person]}\")\n",
    "    if age >= 18: # between 18 (inclusive) and 60 (exclusive)\n",
    "        print(f\"{person} is allowed to take cigarettes\")"
   ]
  },
  {
   "cell_type": "code",
   "execution_count": null,
   "metadata": {},
   "outputs": [],
   "source": [
    "for person in population:\n",
    "    age = population[person]\n",
    "    if age >= 60:\n",
    "        print(f\"{person} is too old for cigrattes because he is {population[person]}\")\n",
    "    elif age >= 18: # between 18 (inclusive) and 60 (exclusive)\n",
    "        print(f\"{person} is allowed to take cigarettes\")"
   ]
  },
  {
   "cell_type": "code",
   "execution_count": null,
   "metadata": {},
   "outputs": [],
   "source": [
    "for person in population:\n",
    "    age = population[person]\n",
    "    if age >= 60:\n",
    "        print(f\"{person} is too old for cigrattes because he is {population[person]}\")\n",
    "    elif age >= 18: # between 18 (inclusive) and 60 (exclusive)\n",
    "        print(f\"{person} is allowed to take cigarettes\")\n",
    "    else:\n",
    "        print(f\"{person} is too young for cigarettes\")"
   ]
  },
  {
   "cell_type": "code",
   "execution_count": null,
   "metadata": {},
   "outputs": [],
   "source": [
    "for person in population:\n",
    "    age = population[person]\n",
    "    if age >= 60:\n",
    "        print(f\"{person} is too old for cigrattes because he is {population[person]}\")\n",
    "    if age >= 18: # between 18 (inclusive) and 60 (exclusive)\n",
    "        print(f\"{person} is allowed to take cigarettes\")\n",
    "    else:\n",
    "        print(f\"{person} is too young for cigarettes\")"
   ]
  },
  {
   "cell_type": "code",
   "execution_count": null,
   "metadata": {},
   "outputs": [],
   "source": [
    "ages"
   ]
  },
  {
   "cell_type": "code",
   "execution_count": null,
   "metadata": {},
   "outputs": [],
   "source": [
    "for age in ages:\n",
    "    print(age * 365)"
   ]
  },
  {
   "cell_type": "code",
   "execution_count": null,
   "metadata": {},
   "outputs": [],
   "source": [
    "ages_days = []\n",
    "for age in ages:\n",
    "    ages_days.append(age * 365)\n",
    "    \n",
    "print(ages_days)"
   ]
  },
  {
   "cell_type": "code",
   "execution_count": null,
   "metadata": {},
   "outputs": [],
   "source": [
    "# Comprehensions\n",
    "ages_days = [age*365 for age in ages]\n",
    "print(ages_days)"
   ]
  },
  {
   "cell_type": "code",
   "execution_count": null,
   "metadata": {},
   "outputs": [],
   "source": [
    "population"
   ]
  },
  {
   "cell_type": "code",
   "execution_count": null,
   "metadata": {},
   "outputs": [],
   "source": [
    "population_days = {citizen:population[citizen]*365 for citizen in population}\n",
    "population_days"
   ]
  },
  {
   "cell_type": "code",
   "execution_count": null,
   "metadata": {},
   "outputs": [],
   "source": [
    "over_18_population = {citizen:population[citizen] for citizen in population if population[citizen]>=18}\n",
    "over_18_population"
   ]
  },
  {
   "cell_type": "code",
   "execution_count": null,
   "metadata": {},
   "outputs": [],
   "source": []
  },
  {
   "cell_type": "code",
   "execution_count": null,
   "metadata": {},
   "outputs": [],
   "source": []
  },
  {
   "cell_type": "code",
   "execution_count": null,
   "metadata": {},
   "outputs": [],
   "source": [
    "population = dict([\n",
    "    ('Ade', 60),\n",
    "    ('Bola', 13),\n",
    "    ('Cathy', 21)\n",
    "])"
   ]
  },
  {
   "cell_type": "code",
   "execution_count": null,
   "metadata": {},
   "outputs": [],
   "source": [
    "population"
   ]
  },
  {
   "cell_type": "code",
   "execution_count": null,
   "metadata": {},
   "outputs": [],
   "source": [
    "help(input)"
   ]
  },
  {
   "cell_type": "code",
   "execution_count": null,
   "metadata": {},
   "outputs": [],
   "source": [
    "date_of_birth = input()"
   ]
  },
  {
   "cell_type": "code",
   "execution_count": null,
   "metadata": {},
   "outputs": [],
   "source": [
    "date_of_birth"
   ]
  },
  {
   "cell_type": "code",
   "execution_count": null,
   "metadata": {},
   "outputs": [],
   "source": [
    "type(date_of_birth)"
   ]
  },
  {
   "cell_type": "code",
   "execution_count": null,
   "metadata": {},
   "outputs": [],
   "source": [
    "date_of_birth = input(\"Please enter your date of birth\")"
   ]
  },
  {
   "cell_type": "code",
   "execution_count": null,
   "metadata": {},
   "outputs": [],
   "source": [
    "date_of_birth"
   ]
  },
  {
   "cell_type": "code",
   "execution_count": null,
   "metadata": {},
   "outputs": [],
   "source": [
    "# Write a code block that receives the date of birth from the user and computes the age"
   ]
  },
  {
   "cell_type": "code",
   "execution_count": null,
   "metadata": {},
   "outputs": [],
   "source": [
    "# receive input\n",
    "# calculate age\n",
    "## age = this_year - year_of_birth"
   ]
  },
  {
   "cell_type": "code",
   "execution_count": null,
   "metadata": {},
   "outputs": [],
   "source": [
    "# To calculate the age, you need the year of birth and the current year\n",
    "date_of_birth[-4:]"
   ]
  },
  {
   "cell_type": "code",
   "execution_count": null,
   "metadata": {},
   "outputs": [],
   "source": [
    "currentYear = 2020"
   ]
  },
  {
   "cell_type": "code",
   "execution_count": null,
   "metadata": {},
   "outputs": [],
   "source": [
    "currentYear - date_of_birth[-4:]"
   ]
  },
  {
   "cell_type": "code",
   "execution_count": null,
   "metadata": {},
   "outputs": [],
   "source": [
    "currentYear - int(date_of_birth[-4:])"
   ]
  },
  {
   "cell_type": "code",
   "execution_count": null,
   "metadata": {},
   "outputs": [],
   "source": [
    "date_of_birth = input(\"Please enter your date of birth\")\n",
    "year_of_birth = int(date_of_birth[-4:])\n",
    "currentYear = 2020\n",
    "age = currentYear - year_of_birth\n",
    "print(f\"Your current age is {age}\")"
   ]
  },
  {
   "cell_type": "code",
   "execution_count": null,
   "metadata": {},
   "outputs": [],
   "source": [
    "date_of_birth = input(\"Please enter your date of birth in the format DD-MM-YYYY\")\n",
    "year_of_birth = int(date_of_birth[-4:])\n",
    "currentYear = 2020\n",
    "age = currentYear - year_of_birth\n",
    "print(f\"Your current age is {age}\")"
   ]
  },
  {
   "cell_type": "code",
   "execution_count": null,
   "metadata": {},
   "outputs": [],
   "source": [
    "# try and except block\n",
    "# try except else block"
   ]
  },
  {
   "cell_type": "code",
   "execution_count": null,
   "metadata": {},
   "outputs": [],
   "source": [
    "date_of_birth = input(\"Please enter your date of birth in the format DD-MM-YYYY\")\n",
    "try:\n",
    "    year_of_birth = int(date_of_birth[-4:])\n",
    "except:\n",
    "    print(\"You have entered a wrong input\")"
   ]
  },
  {
   "cell_type": "code",
   "execution_count": null,
   "metadata": {},
   "outputs": [],
   "source": [
    "date_of_birth = input(\"Please enter your date of birth in the format DD-MM-YYYY\")\n",
    "try:\n",
    "    year_of_birth = int(date_of_birth[-4:])\n",
    "except:\n",
    "    print(\"You have entered a wrong input\")\n",
    "else:\n",
    "    currentYear = 2020\n",
    "    age = currentYear - year_of_birth\n",
    "    print(f\"Your current age is {age}\")\n",
    "print(\"The code has finished executing\")"
   ]
  },
  {
   "cell_type": "code",
   "execution_count": null,
   "metadata": {},
   "outputs": [],
   "source": [
    "import _00_start"
   ]
  },
  {
   "cell_type": "code",
   "execution_count": null,
   "metadata": {},
   "outputs": [],
   "source": [
    "import _01_comments"
   ]
  },
  {
   "cell_type": "code",
   "execution_count": null,
   "metadata": {},
   "outputs": [],
   "source": [
    "import final"
   ]
  },
  {
   "cell_type": "code",
   "execution_count": null,
   "metadata": {},
   "outputs": [],
   "source": [
    "from final import _11_help"
   ]
  },
  {
   "cell_type": "code",
   "execution_count": null,
   "metadata": {},
   "outputs": [],
   "source": [
    "from datetime import datetime"
   ]
  },
  {
   "cell_type": "code",
   "execution_count": null,
   "metadata": {},
   "outputs": [],
   "source": [
    "datetime.today()"
   ]
  },
  {
   "cell_type": "code",
   "execution_count": null,
   "metadata": {},
   "outputs": [],
   "source": [
    "datetime.today().year"
   ]
  },
  {
   "cell_type": "code",
   "execution_count": null,
   "metadata": {},
   "outputs": [],
   "source": [
    "currentYear = datetime.today().year\n",
    "currentYear"
   ]
  },
  {
   "cell_type": "code",
   "execution_count": null,
   "metadata": {},
   "outputs": [],
   "source": [
    "# Convert \"17-04-2010\" into date\n",
    "help(datetime.strptime)"
   ]
  },
  {
   "cell_type": "raw",
   "metadata": {},
   "source": [
    "%a\tAbbreviated weekday name.\tSun, Mon, ...\n",
    "%A\tFull weekday name.\tSunday, Monday, ...\n",
    "%w\tWeekday as a decimal number.\t0, 1, ..., 6\n",
    "%d\tDay of the month as a zero-padded decimal.\t01, 02, ..., 31\n",
    "%-d\tDay of the month as a decimal number.\t1, 2, ..., 30\n",
    "%b\tAbbreviated month name.\tJan, Feb, ..., Dec\n",
    "%B\tFull month name.\tJanuary, February, ...\n",
    "%m\tMonth as a zero-padded decimal number.\t01, 02, ..., 12\n",
    "%-m\tMonth as a decimal number.\t1, 2, ..., 12\n",
    "%y\tYear without century as a zero-padded decimal number.\t00, 01, ..., 99\n",
    "%-y\tYear without century as a decimal number.\t0, 1, ..., 99\n",
    "%Y\tYear with century as a decimal number.\t2013, 2019 etc.\n",
    "%H\tHour (24-hour clock) as a zero-padded decimal number.\t00, 01, ..., 23\n",
    "%-H\tHour (24-hour clock) as a decimal number.\t0, 1, ..., 23\n",
    "%I\tHour (12-hour clock) as a zero-padded decimal number.\t01, 02, ..., 12\n",
    "%-I\tHour (12-hour clock) as a decimal number.\t1, 2, ... 12\n",
    "%p\tLocale’s AM or PM.\tAM, PM\n",
    "%M\tMinute as a zero-padded decimal number.\t00, 01, ..., 59\n",
    "%-M\tMinute as a decimal number.\t0, 1, ..., 59\n",
    "%S\tSecond as a zero-padded decimal number.\t00, 01, ..., 59\n",
    "%-S\tSecond as a decimal number.\t0, 1, ..., 59\n",
    "%f\tMicrosecond as a decimal number, zero-padded on the left.\t000000 - 999999\n",
    "%z\tUTC offset in the form +HHMM or -HHMM.\t \n",
    "%Z\tTime zone name.\t \n",
    "%j\tDay of the year as a zero-padded decimal number.\t001, 002, ..., 366\n",
    "%-j\tDay of the year as a decimal number.\t1, 2, ..., 366\n",
    "%U\tWeek number of the year (Sunday as the first day of the week). All days in a new year preceding the first Sunday are considered to be in week 0.\t00, 01, ..., 53\n",
    "%W\tWeek number of the year (Monday as the first day of the week). All days in a new year preceding the first Monday are considered to be in week 0.\t00, 01, ..., 53\n",
    "%c\tLocale’s appropriate date and time representation.\tMon Sep 30 07:06:05 2013\n",
    "%x\tLocale’s appropriate date representation.\t09/30/13\n",
    "%X\tLocale’s appropriate time representation.\t07:06:05\n",
    "%%\tA literal '%' character.\t%"
   ]
  },
  {
   "cell_type": "code",
   "execution_count": null,
   "metadata": {},
   "outputs": [],
   "source": [
    "datetime.strptime(\"17-04-1990\", \"%d-%m-%Y\")"
   ]
  },
  {
   "cell_type": "code",
   "execution_count": null,
   "metadata": {},
   "outputs": [],
   "source": [
    "datetime.strptime(\"17-04-1990\", \"%d-%m-%Y\").year"
   ]
  },
  {
   "cell_type": "code",
   "execution_count": null,
   "metadata": {},
   "outputs": [],
   "source": [
    "currentYear = datetime.today().year # get current year\n",
    "input_value = input(\"Please enter your date of birth in the format  DD-MM-YYYY\") # get user input\n",
    "try:\n",
    "    year_of_birth = datetime.strptime(input_value, \"%d-%m-%Y\").year # convert user input to year of birth\n",
    "except:\n",
    "    print(\"You have entered a wrong input\")\n",
    "else:\n",
    "    age = currentYear - year_of_birth\n",
    "    print(f\"Your age is {age}\")\n",
    "print(\"Code has executed\")"
   ]
  },
  {
   "cell_type": "markdown",
   "metadata": {},
   "source": [
    "https://t.me/PyDataCo"
   ]
  },
  {
   "cell_type": "markdown",
   "metadata": {},
   "source": [
    "https://bit.ly/PyDataCo"
   ]
  },
  {
   "cell_type": "code",
   "execution_count": null,
   "metadata": {},
   "outputs": [],
   "source": [
    "from datetime import datetime\n",
    "currentYear = datetime.today().year # get current year\n",
    "input_value = input(\"Please enter your date of birth in the format  DD-MM-YYYY\") # get user input\n",
    "try:\n",
    "    year_of_birth = datetime.strptime(input_value, \"%d-%m-%Y\").year # convert user input to year of birth\n",
    "except:\n",
    "    print(\"You have entered a wrong input\")\n",
    "else:\n",
    "    age = currentYear - year_of_birth\n",
    "    print(f\"Your age is {age}\")\n",
    "print(\"Code has executed\")"
   ]
  },
  {
   "cell_type": "code",
   "execution_count": null,
   "metadata": {},
   "outputs": [],
   "source": [
    "'''\n",
    "def function_name(argument1, argument2, *arguments **keyword_arguments):\n",
    "    compute whatever you want with the arguments\n",
    "    [optional] return a value\n",
    "'''"
   ]
  },
  {
   "cell_type": "code",
   "execution_count": null,
   "metadata": {},
   "outputs": [],
   "source": [
    "def compute_age():\n",
    "    from datetime import datetime\n",
    "    currentYear = datetime.today().year # get current year\n",
    "    input_value = input(\"Please enter your date of birth in the format  DD-MM-YYYY\") # get user input\n",
    "    try:\n",
    "        year_of_birth = datetime.strptime(input_value, \"%d-%m-%Y\").year # convert user input to year of birth\n",
    "    except:\n",
    "        print(\"You have entered a wrong input\")\n",
    "    else:\n",
    "        age = currentYear - year_of_birth\n",
    "        print(f\"Your age is {age}\")\n",
    "    print(\"Code has executed\")"
   ]
  },
  {
   "cell_type": "code",
   "execution_count": null,
   "metadata": {},
   "outputs": [],
   "source": [
    "compute_age()"
   ]
  },
  {
   "cell_type": "code",
   "execution_count": null,
   "metadata": {},
   "outputs": [],
   "source": [
    "compute_age()"
   ]
  },
  {
   "cell_type": "code",
   "execution_count": null,
   "metadata": {},
   "outputs": [],
   "source": [
    "kelechi_age = compute_age()"
   ]
  },
  {
   "cell_type": "code",
   "execution_count": null,
   "metadata": {},
   "outputs": [],
   "source": [
    "print(kelechi_age)"
   ]
  },
  {
   "cell_type": "code",
   "execution_count": null,
   "metadata": {},
   "outputs": [],
   "source": [
    "def compute_age():\n",
    "    from datetime import datetime\n",
    "    currentYear = datetime.today().year # get current year\n",
    "    input_value = input(\"Please enter your date of birth in the format  DD-MM-YYYY\") # get user input\n",
    "    try:\n",
    "        year_of_birth = datetime.strptime(input_value, \"%d-%m-%Y\").year # convert user input to year of birth\n",
    "    except:\n",
    "        print(\"You have entered a wrong input\")\n",
    "    else:\n",
    "        age = currentYear - year_of_birth\n",
    "        print(f\"Your age is {age}\")\n",
    "    print(\"Code has executed\")\n",
    "    \n",
    "    return age"
   ]
  },
  {
   "cell_type": "code",
   "execution_count": null,
   "metadata": {},
   "outputs": [],
   "source": [
    "kelechi_age = compute_age()"
   ]
  },
  {
   "cell_type": "code",
   "execution_count": null,
   "metadata": {},
   "outputs": [],
   "source": [
    "kelechi_age"
   ]
  },
  {
   "cell_type": "code",
   "execution_count": null,
   "metadata": {},
   "outputs": [],
   "source": [
    "kelechi_age * 365"
   ]
  },
  {
   "cell_type": "code",
   "execution_count": null,
   "metadata": {},
   "outputs": [],
   "source": [
    "# Wake up\n",
    "# Check if it's morning\n",
    "#    Say thank you\n",
    "#    brush teeth"
   ]
  },
  {
   "cell_type": "code",
   "execution_count": null,
   "metadata": {},
   "outputs": [],
   "source": [
    "def wake_up(time):\n",
    "    if time == \"morning\":\n",
    "        print(\"Thank you\")\n",
    "        print(\"Brush teeth\")\n",
    "    elif time == \"afternoon\":\n",
    "        print(\"It's afternoon\\nNo need to brush teeth\")\n",
    "    else:\n",
    "        print(\"Looks like you've woken up at the wrong time\")"
   ]
  },
  {
   "cell_type": "code",
   "execution_count": null,
   "metadata": {},
   "outputs": [],
   "source": [
    "wake_up()"
   ]
  },
  {
   "cell_type": "code",
   "execution_count": null,
   "metadata": {},
   "outputs": [],
   "source": [
    "wake_up(time=\"morning\")"
   ]
  },
  {
   "cell_type": "code",
   "execution_count": null,
   "metadata": {},
   "outputs": [],
   "source": [
    "wake_up('afternoon')"
   ]
  },
  {
   "cell_type": "code",
   "execution_count": null,
   "metadata": {},
   "outputs": [],
   "source": [
    "wake_up('evening')"
   ]
  },
  {
   "cell_type": "code",
   "execution_count": null,
   "metadata": {},
   "outputs": [],
   "source": [
    "wake_up('anytime')"
   ]
  },
  {
   "cell_type": "code",
   "execution_count": null,
   "metadata": {},
   "outputs": [],
   "source": [
    "def wake_up(time=\"morning\"):\n",
    "    if time == \"morning\":\n",
    "        print(\"Thank you\")\n",
    "        print(\"Brush teeth\")\n",
    "    elif time == \"afternoon\":\n",
    "        print(\"It's afternoon\\nNo need to brush teeth\\t\\t\\tEnter a new tab\")\n",
    "    else:\n",
    "        print(\"Looks like you've woken up at the wrong time\")\n",
    "        \n",
    "    return time"
   ]
  },
  {
   "cell_type": "code",
   "execution_count": null,
   "metadata": {},
   "outputs": [],
   "source": [
    "wake_up(\"afternoon\")"
   ]
  },
  {
   "cell_type": "code",
   "execution_count": null,
   "metadata": {},
   "outputs": [],
   "source": [
    "file = open('sample.txt')"
   ]
  },
  {
   "cell_type": "code",
   "execution_count": null,
   "metadata": {},
   "outputs": [],
   "source": [
    "file"
   ]
  },
  {
   "cell_type": "code",
   "execution_count": null,
   "metadata": {},
   "outputs": [],
   "source": [
    "help(open)"
   ]
  },
  {
   "cell_type": "code",
   "execution_count": null,
   "metadata": {},
   "outputs": [],
   "source": [
    "file = open('sample.txt', 'r')\n",
    "file"
   ]
  },
  {
   "cell_type": "code",
   "execution_count": null,
   "metadata": {},
   "outputs": [],
   "source": [
    "output = file.read()\n",
    "type(output)"
   ]
  },
  {
   "cell_type": "code",
   "execution_count": null,
   "metadata": {},
   "outputs": [],
   "source": [
    "output"
   ]
  },
  {
   "cell_type": "code",
   "execution_count": null,
   "metadata": {},
   "outputs": [],
   "source": [
    "dir(output)"
   ]
  },
  {
   "cell_type": "code",
   "execution_count": null,
   "metadata": {},
   "outputs": [],
   "source": [
    "output.split()"
   ]
  },
  {
   "cell_type": "code",
   "execution_count": null,
   "metadata": {},
   "outputs": [],
   "source": [
    "words = output.split()\n",
    "words"
   ]
  },
  {
   "cell_type": "code",
   "execution_count": null,
   "metadata": {},
   "outputs": [],
   "source": [
    "words[4]"
   ]
  },
  {
   "cell_type": "code",
   "execution_count": null,
   "metadata": {},
   "outputs": [],
   "source": [
    "file.close()"
   ]
  },
  {
   "cell_type": "code",
   "execution_count": null,
   "metadata": {},
   "outputs": [],
   "source": [
    "# context managers\n",
    "with open('sample.txt') as file:\n",
    "    output = file.read()"
   ]
  },
  {
   "cell_type": "code",
   "execution_count": null,
   "metadata": {},
   "outputs": [],
   "source": [
    "words = output.split()"
   ]
  },
  {
   "cell_type": "code",
   "execution_count": null,
   "metadata": {},
   "outputs": [],
   "source": [
    "words"
   ]
  },
  {
   "cell_type": "code",
   "execution_count": null,
   "metadata": {},
   "outputs": [],
   "source": [
    "with open('sample.txt') as file:\n",
    "    output = file.readlines()"
   ]
  },
  {
   "cell_type": "code",
   "execution_count": null,
   "metadata": {},
   "outputs": [],
   "source": [
    "output"
   ]
  },
  {
   "cell_type": "code",
   "execution_count": null,
   "metadata": {},
   "outputs": [],
   "source": [
    "help()"
   ]
  },
  {
   "cell_type": "code",
   "execution_count": null,
   "metadata": {},
   "outputs": [],
   "source": [
    "age = 22"
   ]
  },
  {
   "cell_type": "code",
   "execution_count": null,
   "metadata": {},
   "outputs": [],
   "source": [
    "help(age)"
   ]
  },
  {
   "cell_type": "code",
   "execution_count": null,
   "metadata": {},
   "outputs": [],
   "source": [
    "dir(age)"
   ]
  },
  {
   "cell_type": "code",
   "execution_count": null,
   "metadata": {},
   "outputs": [],
   "source": [
    "difficulty = input(\"\"\"Please choose a difficulty level by typing the corresponding number.\n",
    "            Enter 0 to exit\n",
    "            1 - Easy\n",
    "            2 - Normal\n",
    "            3 - Hard\n",
    "            4 - Impossible\n",
    "\n",
    "            Enter 0 to exit\n",
    "            \"\"\")"
   ]
  },
  {
   "cell_type": "code",
   "execution_count": null,
   "metadata": {},
   "outputs": [],
   "source": [
    "difficulty"
   ]
  },
  {
   "cell_type": "code",
   "execution_count": null,
   "metadata": {},
   "outputs": [],
   "source": [
    "try:\n",
    "    difficulty = int(input(\"\"\"Please choose a difficulty level by typing the corresponding number.\n",
    "            Enter 0 to exit\n",
    "            1 - Easy\n",
    "            2 - Normal\n",
    "            3 - Hard\n",
    "            4 - Impossible\n",
    "\n",
    "            Enter 0 to exit\n",
    "            \"\"\"))\n",
    "    print(difficulty)\n",
    "except:\n",
    "    print(\"You haven't entered a valid option\")"
   ]
  },
  {
   "cell_type": "code",
   "execution_count": null,
   "metadata": {},
   "outputs": [],
   "source": [
    "selection = None\n",
    "while selection != 0:\n",
    "    selection = input(\"\"\"Please choose a difficulty level by typing the corresponding number.\n",
    "            Enter 0 to exit\n",
    "            1 - Easy\n",
    "            2 - Normal\n",
    "            3 - Hard\n",
    "            4 - Impossible\n",
    "\n",
    "            Enter 0 to exit\n",
    "            \"\"\")\n",
    "    try:\n",
    "        selection = int(selection)\n",
    "        \n",
    "    except:\n",
    "        print(\"You have entered a wrong value\")"
   ]
  },
  {
   "cell_type": "code",
   "execution_count": null,
   "metadata": {},
   "outputs": [],
   "source": [
    "'''This module is used to set the difficulty\n",
    "The difficulty is a function of the randomly generated word length\n",
    "easy = min_word_length=5, max_word_length=6, number_of_tries=6\n",
    "normal = min_word_length=7, max_word_length=9 number_of_tries=7\n",
    "hard = min_word_length=11, max_word_length=16, number_of_tries=8\n",
    "impossible = min_word_length=12, max_word_length=16, number_of_tries=4\n",
    "'''"
   ]
  },
  {
   "cell_type": "code",
   "execution_count": 3,
   "metadata": {},
   "outputs": [
    {
     "name": "stdin",
     "output_type": "stream",
     "text": [
      "Please choose a difficulty level by typing the corresponding number.\n",
      "            Enter 0 to exit\n",
      "            1 - Easy\n",
      "            2 - Normal\n",
      "            3 - Hard\n",
      "            4 - Impossible\n",
      "\n",
      "            Enter 0 to exit\n",
      "             2\n",
      "Please choose a difficulty level by typing the corresponding number.\n",
      "            Enter 0 to exit\n",
      "            1 - Easy\n",
      "            2 - Normal\n",
      "            3 - Hard\n",
      "            4 - Impossible\n",
      "\n",
      "            Enter 0 to exit\n",
      "             0\n"
     ]
    },
    {
     "name": "stdout",
     "output_type": "stream",
     "text": [
      "Thank you for playing. The game will now exit\n"
     ]
    }
   ],
   "source": [
    "selection = None\n",
    "while selection != 0:\n",
    "    selection = input(\"\"\"Please choose a difficulty level by typing the corresponding number.\n",
    "            Enter 0 to exit\n",
    "            1 - Easy\n",
    "            2 - Normal\n",
    "            3 - Hard\n",
    "            4 - Impossible\n",
    "\n",
    "            Enter 0 to exit\n",
    "            \"\"\")\n",
    "    try:\n",
    "        selection = int(selection)\n",
    "        if selection in [1, 2, 3, 4]:\n",
    "            if selection == 1:\n",
    "                min_word_length = 5\n",
    "                max_word_length = 6\n",
    "                number_of_tries = 6\n",
    "            if selection == 2:\n",
    "                min_word_length = 7\n",
    "                max_word_length = 9\n",
    "                number_of_tries = 7\n",
    "            if selection == 3:\n",
    "                min_word_length = 10\n",
    "                max_word_length = 12\n",
    "                number_of_tries = 10\n",
    "            if selection == 4:\n",
    "                min_word_length = 11\n",
    "                max_word_length = 16\n",
    "                number_of_tries = 8\n",
    "        elif selection == 0:\n",
    "            print(\"Thank you for playing. The game will now exit\")\n",
    "        else:\n",
    "            print(f\"You didn't enter a value between 1 and 4\")\n",
    "    except:\n",
    "        print(\"You have entered a wrong value\")"
   ]
  },
  {
   "cell_type": "code",
   "execution_count": 4,
   "metadata": {},
   "outputs": [],
   "source": [
    "def set_difficulty():\n",
    "    selection = None\n",
    "    while selection != 0:\n",
    "        selection = input(\"\"\"Please choose a difficulty level by typing the corresponding number.\n",
    "                Enter 0 to exit\n",
    "                1 - Easy\n",
    "                2 - Normal\n",
    "                3 - Hard\n",
    "                4 - Impossible\n",
    "\n",
    "                Enter 0 to exit\n",
    "                \"\"\")\n",
    "        try:\n",
    "            selection = int(selection)\n",
    "            if selection in [1, 2, 3, 4]:\n",
    "                if selection == 1:\n",
    "                    min_word_length = 5\n",
    "                    max_word_length = 6\n",
    "                    number_of_tries = 6\n",
    "                if selection == 2:\n",
    "                    min_word_length = 7\n",
    "                    max_word_length = 9\n",
    "                    number_of_tries = 7\n",
    "                if selection == 3:\n",
    "                    min_word_length = 10\n",
    "                    max_word_length = 12\n",
    "                    number_of_tries = 10\n",
    "                if selection == 4:\n",
    "                    min_word_length = 11\n",
    "                    max_word_length = 16\n",
    "                    number_of_tries = 8\n",
    "            elif selection == 0:\n",
    "                print(\"Thank you for playing. The game will now exit\")\n",
    "            else:\n",
    "                print(f\"You didn't enter a value between 1 and 4\")\n",
    "            \n",
    "            difficulty = {\n",
    "                'min_word_length': min_word_length,\n",
    "                'max_word_length': max_word_length,\n",
    "                'number_of_tries': number_of_tries,\n",
    "            }\n",
    "            return difficulty\n",
    "        except:\n",
    "            print(\"You have entered a wrong value\")"
   ]
  },
  {
   "cell_type": "code",
   "execution_count": 7,
   "metadata": {},
   "outputs": [
    {
     "name": "stdin",
     "output_type": "stream",
     "text": [
      "Please choose a difficulty level by typing the corresponding number.\n",
      "                Enter 0 to exit\n",
      "                1 - Easy\n",
      "                2 - Normal\n",
      "                3 - Hard\n",
      "                4 - Impossible\n",
      "\n",
      "                Enter 0 to exit\n",
      "                 jdkjfakdfjd\n"
     ]
    },
    {
     "name": "stdout",
     "output_type": "stream",
     "text": [
      "You have entered a wrong value\n"
     ]
    },
    {
     "name": "stdin",
     "output_type": "stream",
     "text": [
      "Please choose a difficulty level by typing the corresponding number.\n",
      "                Enter 0 to exit\n",
      "                1 - Easy\n",
      "                2 - Normal\n",
      "                3 - Hard\n",
      "                4 - Impossible\n",
      "\n",
      "                Enter 0 to exit\n",
      "                 jdfkajd;faj\n"
     ]
    },
    {
     "name": "stdout",
     "output_type": "stream",
     "text": [
      "You have entered a wrong value\n"
     ]
    },
    {
     "name": "stdin",
     "output_type": "stream",
     "text": [
      "Please choose a difficulty level by typing the corresponding number.\n",
      "                Enter 0 to exit\n",
      "                1 - Easy\n",
      "                2 - Normal\n",
      "                3 - Hard\n",
      "                4 - Impossible\n",
      "\n",
      "                Enter 0 to exit\n",
      "                 0\n"
     ]
    },
    {
     "name": "stdout",
     "output_type": "stream",
     "text": [
      "Thank you for playing. The game will now exit\n",
      "You have entered a wrong value\n"
     ]
    }
   ],
   "source": [
    "set_difficulty()"
   ]
  },
  {
   "cell_type": "code",
   "execution_count": 1,
   "metadata": {},
   "outputs": [
    {
     "name": "stdout",
     "output_type": "stream",
     "text": [
      " Volume in drive C is Windows\n",
      " Volume Serial Number is 66FB-D0BD\n",
      "\n",
      " Directory of C:\\Users\\kelechi.emenike\\OneDrive\\code\\hangme\n",
      "\n",
      "06/07/2020  07:57 PM    <DIR>          .\n",
      "06/07/2020  07:57 PM    <DIR>          ..\n",
      "05/31/2020  09:24 PM               141 .gitignore\n",
      "05/31/2020  09:24 PM    <DIR>          .history\n",
      "05/24/2020  08:41 PM    <DIR>          .ipynb_checkpoints\n",
      "05/27/2020  05:06 AM    <DIR>          .vscode\n",
      "06/07/2020  07:57 PM    <DIR>          __pycache__\n",
      "05/01/2020  09:47 PM            39,891 CircularFavoriteIguana-small.gif\n",
      "06/07/2020  07:56 PM    <DIR>          game_files\n",
      "05/01/2020  09:47 PM                 0 main.py\n",
      "05/03/2020  09:37 PM             1,557 README.md\n",
      "05/24/2020  08:26 PM               119 sample.txt\n",
      "05/31/2020  08:51 PM            37,046 Untitled2.ipynb\n",
      "               6 File(s)         78,754 bytes\n",
      "               7 Dir(s)  15,959,314,432 bytes free\n"
     ]
    }
   ],
   "source": [
    "ls"
   ]
  },
  {
   "cell_type": "code",
   "execution_count": 2,
   "metadata": {},
   "outputs": [
    {
     "name": "stdout",
     "output_type": "stream",
     "text": [
      "C:\\Users\\kelechi.emenike\\OneDrive\\code\\hangme\\game_files\n"
     ]
    }
   ],
   "source": [
    "cd game_files"
   ]
  },
  {
   "cell_type": "code",
   "execution_count": 3,
   "metadata": {},
   "outputs": [
    {
     "name": "stdout",
     "output_type": "stream",
     "text": [
      " Volume in drive C is Windows\n",
      " Volume Serial Number is 66FB-D0BD\n",
      "\n",
      " Directory of C:\\Users\\kelechi.emenike\\OneDrive\\code\\hangme\\game_files\n",
      "\n",
      "06/07/2020  07:56 PM    <DIR>          .\n",
      "06/07/2020  07:56 PM    <DIR>          ..\n",
      "06/07/2020  08:15 PM    <DIR>          .ipynb_checkpoints\n",
      "05/27/2020  10:09 AM                 1 __init__.py\n",
      "06/07/2020  07:54 PM    <DIR>          __pycache__\n",
      "06/07/2020  07:56 PM             2,221 _main.py\n",
      "05/27/2020  05:07 AM         4,725,252 dictionary.csv\n",
      "05/27/2020  10:08 AM             1,302 get_random.py\n",
      "05/27/2020  10:29 AM             1,222 pseudocode.md\n",
      "05/27/2020  10:31 AM               796 README.md\n",
      "05/31/2020  09:24 PM             1,961 set_difficulty.py\n",
      "05/31/2020  09:22 PM               147 start_game.py\n",
      "05/03/2020  08:30 PM         4,234,915 words_alpha.txt\n",
      "               9 File(s)      8,967,817 bytes\n",
      "               4 Dir(s)  15,955,185,664 bytes free\n"
     ]
    }
   ],
   "source": [
    "ls"
   ]
  },
  {
   "cell_type": "code",
   "execution_count": 5,
   "metadata": {},
   "outputs": [
    {
     "name": "stdout",
     "output_type": "stream",
     "text": [
      "C:\\Users\\kelechi.emenike\\OneDrive\\code\\hangme\n"
     ]
    }
   ],
   "source": [
    "cd .."
   ]
  },
  {
   "cell_type": "code",
   "execution_count": 6,
   "metadata": {},
   "outputs": [
    {
     "name": "stdout",
     "output_type": "stream",
     "text": [
      " Volume in drive C is Windows\n",
      " Volume Serial Number is 66FB-D0BD\n",
      "\n",
      " Directory of C:\\Users\\kelechi.emenike\\OneDrive\\code\\hangme\n",
      "\n",
      "06/07/2020  08:16 PM    <DIR>          .\n",
      "06/07/2020  08:16 PM    <DIR>          ..\n",
      "05/31/2020  09:24 PM               141 .gitignore\n",
      "05/31/2020  09:24 PM    <DIR>          .history\n",
      "05/24/2020  08:41 PM    <DIR>          .ipynb_checkpoints\n",
      "05/27/2020  05:06 AM    <DIR>          .vscode\n",
      "06/07/2020  07:57 PM    <DIR>          __pycache__\n",
      "05/01/2020  09:47 PM            39,891 CircularFavoriteIguana-small.gif\n",
      "06/07/2020  07:56 PM    <DIR>          game_files\n",
      "05/01/2020  09:47 PM                 0 main.py\n",
      "05/03/2020  09:37 PM             1,557 README.md\n",
      "05/24/2020  08:26 PM               119 sample.txt\n",
      "06/07/2020  08:16 PM            40,008 Untitled2.ipynb\n",
      "               6 File(s)         81,716 bytes\n",
      "               7 Dir(s)  15,941,963,776 bytes free\n"
     ]
    }
   ],
   "source": [
    "ls"
   ]
  },
  {
   "cell_type": "code",
   "execution_count": 14,
   "metadata": {},
   "outputs": [
    {
     "name": "stdout",
     "output_type": "stream",
     "text": [
      "['nuclei']\n"
     ]
    }
   ],
   "source": [
    "min_length = 5\n",
    "max_length = 6\n",
    "WORDLIST = 'sample.txt'\n",
    "\n",
    "with open(WORDLIST, 'r') as file:\n",
    "    words = file.readlines()\n",
    "    all_words = [word.strip('\\n') for word in words]\n",
    "    valid_words = [word for word in all_words if len(word)>=min_length and len(word)<=max_length]\n",
    "    print(valid_words)\n",
    "        "
   ]
  },
  {
   "cell_type": "code",
   "execution_count": null,
   "metadata": {},
   "outputs": [],
   "source": [
    "# min_length\n",
    "# max_length\n",
    "# number_of_tries"
   ]
  },
  {
   "cell_type": "code",
   "execution_count": 17,
   "metadata": {},
   "outputs": [
    {
     "name": "stdout",
     "output_type": "stream",
     "text": [
      "['alemmal', 'nauseated', 'subgrades', 'avianized', 'clotured', 'ajourise']\n"
     ]
    }
   ],
   "source": [
    "min_length = 7\n",
    "max_length = 9\n",
    "WORDLIST = 'sample.txt'\n",
    "words = []\n",
    "with open(WORDLIST, 'r') as file:\n",
    "    for word in file:\n",
    "        word = word.strip('\\n').lower()\n",
    "        if min_length <= len(word) <= max_length:\n",
    "            words.append(word)\n",
    "print(words)"
   ]
  },
  {
   "cell_type": "code",
   "execution_count": 18,
   "metadata": {},
   "outputs": [],
   "source": [
    "import random"
   ]
  },
  {
   "cell_type": "code",
   "execution_count": 19,
   "metadata": {},
   "outputs": [
    {
     "name": "stdout",
     "output_type": "stream",
     "text": [
      "Help on method choice in module random:\n",
      "\n",
      "choice(seq) method of random.Random instance\n",
      "    Choose a random element from a non-empty sequence.\n",
      "\n"
     ]
    }
   ],
   "source": [
    "help(random.choice)"
   ]
  },
  {
   "cell_type": "code",
   "execution_count": 24,
   "metadata": {},
   "outputs": [
    {
     "name": "stdout",
     "output_type": "stream",
     "text": [
      "avianized\n"
     ]
    }
   ],
   "source": [
    "print(random.choice(words))"
   ]
  },
  {
   "cell_type": "code",
   "execution_count": 33,
   "metadata": {},
   "outputs": [
    {
     "name": "stdout",
     "output_type": "stream",
     "text": [
      "semiconducting\n"
     ]
    }
   ],
   "source": [
    "import random\n",
    "\n",
    "min_length = 12\n",
    "max_length = 16\n",
    "WORDLIST = 'game_files/words_alpha.txt'\n",
    "words = []\n",
    "with open(WORDLIST, 'r') as file:\n",
    "    for word in file:\n",
    "        word = word.strip('\\n').lower()\n",
    "        if min_length <= len(word) <= max_length:\n",
    "            words.append(word)\n",
    "print(random.choice(words))"
   ]
  },
  {
   "cell_type": "code",
   "execution_count": 37,
   "metadata": {},
   "outputs": [],
   "source": [
    "\n",
    "def get_random(min_length, max_length, wordlist):\n",
    "    import random\n",
    "\n",
    "#     min_length = 12\n",
    "#     max_length = 16\n",
    "#     WORDLIST = 'game_files/words_alpha.txt'\n",
    "    words = []\n",
    "    with open(WORDLIST, 'r') as file:\n",
    "        for word in file:\n",
    "            word = word.strip('\\n').lower()\n",
    "            if min_length <= len(word) <= max_length:\n",
    "                words.append(word)\n",
    "    return random.choice(words)"
   ]
  },
  {
   "cell_type": "code",
   "execution_count": 40,
   "metadata": {},
   "outputs": [
    {
     "data": {
      "text/plain": [
       "'coinstantaneousness'"
      ]
     },
     "execution_count": 40,
     "metadata": {},
     "output_type": "execute_result"
    }
   ],
   "source": [
    "get_random(18, 20, 'game_files/words_alpha.txt')"
   ]
  },
  {
   "cell_type": "code",
   "execution_count": null,
   "metadata": {},
   "outputs": [],
   "source": []
  }
 ],
 "metadata": {
  "kernelspec": {
   "display_name": "Python 3.8.2 64-bit ('data': conda)",
   "language": "python",
   "name": "python38264bitdatacondace811b9e284342aa8b94307b94c3ccd4"
  },
  "language_info": {
   "codemirror_mode": {
    "name": "ipython",
    "version": 3
   },
   "file_extension": ".py",
   "mimetype": "text/x-python",
   "name": "python",
   "nbconvert_exporter": "python",
   "pygments_lexer": "ipython3",
   "version": "3.8.2"
  }
 },
 "nbformat": 4,
 "nbformat_minor": 4
}
