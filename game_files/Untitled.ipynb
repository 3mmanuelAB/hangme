{
 "cells": [
  {
   "cell_type": "code",
   "execution_count": 1,
   "metadata": {},
   "outputs": [],
   "source": [
    "from set_difficulty import set_difficulty\n",
    "from get_random import get_random"
   ]
  },
  {
   "cell_type": "code",
   "execution_count": 2,
   "metadata": {},
   "outputs": [
    {
     "name": "stdout",
     "output_type": "stream",
     "text": [
      " Volume in drive C is Windows\n",
      " Volume Serial Number is 66FB-D0BD\n",
      "\n",
      " Directory of C:\\Users\\kelechi.emenike\\OneDrive\\code\\hangme\\game_files\n",
      "\n",
      "06/07/2020  08:44 PM    <DIR>          .\n",
      "06/07/2020  08:44 PM    <DIR>          ..\n",
      "06/07/2020  08:36 PM    <DIR>          .ipynb_checkpoints\n",
      "05/27/2020  10:09 AM                 1 __init__.py\n",
      "06/07/2020  08:44 PM    <DIR>          __pycache__\n",
      "06/07/2020  07:56 PM             2,221 _main.py\n",
      "05/27/2020  05:07 AM         4,725,252 dictionary.csv\n",
      "06/07/2020  08:44 PM             1,238 get_random.py\n",
      "06/07/2020  08:36 PM                 0 main.py\n",
      "05/27/2020  10:29 AM             1,222 pseudocode.md\n",
      "05/27/2020  10:31 AM               796 README.md\n",
      "05/31/2020  09:24 PM             1,961 set_difficulty.py\n",
      "05/31/2020  09:22 PM               147 start_game.py\n",
      "06/07/2020  08:38 PM               622 Untitled.ipynb\n",
      "05/03/2020  08:30 PM         4,234,915 words_alpha.txt\n",
      "              11 File(s)      8,968,375 bytes\n",
      "               4 Dir(s)  15,741,853,696 bytes free\n"
     ]
    }
   ],
   "source": [
    "ls"
   ]
  },
  {
   "cell_type": "code",
   "execution_count": 4,
   "metadata": {},
   "outputs": [
    {
     "data": {
      "text/plain": [
       "'dippers'"
      ]
     },
     "execution_count": 4,
     "metadata": {},
     "output_type": "execute_result"
    }
   ],
   "source": [
    "get_random(5, 10, 'words_alpha.txt')"
   ]
  },
  {
   "cell_type": "code",
   "execution_count": 6,
   "metadata": {},
   "outputs": [
    {
     "name": "stdin",
     "output_type": "stream",
     "text": [
      "Please choose a difficulty level by typing the corresponding number.\n",
      "            Enter 0 to exit\n",
      "            1 - Easy\n",
      "            2 - Normal\n",
      "            3 - Hard\n",
      "            4 - Impossible\n",
      "\n",
      "            Enter 0 to exit\n",
      "             1\n"
     ]
    }
   ],
   "source": [
    "difficulty = set_difficulty()"
   ]
  },
  {
   "cell_type": "code",
   "execution_count": 7,
   "metadata": {},
   "outputs": [
    {
     "data": {
      "text/plain": [
       "{'min_word_length': 5, 'max_word_length': 6, 'number_of_tries': 6}"
      ]
     },
     "execution_count": 7,
     "metadata": {},
     "output_type": "execute_result"
    }
   ],
   "source": [
    "difficulty"
   ]
  },
  {
   "cell_type": "code",
   "execution_count": 8,
   "metadata": {},
   "outputs": [
    {
     "data": {
      "text/plain": [
       "'caners'"
      ]
     },
     "execution_count": 8,
     "metadata": {},
     "output_type": "execute_result"
    }
   ],
   "source": [
    "WORDLIST = 'words_alpha.txt'\n",
    "get_random(difficulty['min_word_length'], difficulty['max_word_length'], WORDLIST)"
   ]
  },
  {
   "cell_type": "code",
   "execution_count": 23,
   "metadata": {},
   "outputs": [
    {
     "name": "stdin",
     "output_type": "stream",
     "text": [
      "Please choose a difficulty level by typing the corresponding number.\n",
      "            Enter 0 to exit\n",
      "            1 - Easy\n",
      "            2 - Normal\n",
      "            3 - Hard\n",
      "            4 - Impossible\n",
      "\n",
      "            Enter 0 to exit\n",
      "             3\n"
     ]
    },
    {
     "name": "stdout",
     "output_type": "stream",
     "text": [
      "fruitfulness\n"
     ]
    }
   ],
   "source": [
    "from set_difficulty import set_difficulty\n",
    "from get_random import get_random\n",
    "\n",
    "difficulty = set_difficulty()\n",
    "WORDLIST = 'words_alpha.txt'\n",
    "\n",
    "if difficulty:\n",
    "    random_word = get_random(difficulty['min_word_length'], difficulty['max_word_length'], WORDLIST)\n",
    "    print(random_word)\n",
    "else:\n",
    "    print(\"Code will now exit\")"
   ]
  },
  {
   "cell_type": "code",
   "execution_count": null,
   "metadata": {},
   "outputs": [],
   "source": []
  }
 ],
 "metadata": {
  "kernelspec": {
   "display_name": "Python 3",
   "language": "python",
   "name": "python3"
  },
  "language_info": {
   "codemirror_mode": {
    "name": "ipython",
    "version": 3
   },
   "file_extension": ".py",
   "mimetype": "text/x-python",
   "name": "python",
   "nbconvert_exporter": "python",
   "pygments_lexer": "ipython3",
   "version": "3.8.2"
  }
 },
 "nbformat": 4,
 "nbformat_minor": 4
}
