{
 "cells": [
  {
   "cell_type": "code",
   "execution_count": 1,
   "metadata": {},
   "outputs": [],
   "source": [
    "from set_difficulty import set_difficulty\n",
    "from get_random import get_random"
   ]
  },
  {
   "cell_type": "code",
   "execution_count": 2,
   "metadata": {},
   "outputs": [
    {
     "name": "stdout",
     "output_type": "stream",
     "text": [
      " Volume in drive C is Windows\n",
      " Volume Serial Number is 66FB-D0BD\n",
      "\n",
      " Directory of C:\\Users\\kelechi.emenike\\OneDrive\\code\\hangme\\game_files\n",
      "\n",
      "06/07/2020  08:44 PM    <DIR>          .\n",
      "06/07/2020  08:44 PM    <DIR>          ..\n",
      "06/07/2020  08:36 PM    <DIR>          .ipynb_checkpoints\n",
      "05/27/2020  10:09 AM                 1 __init__.py\n",
      "06/07/2020  08:44 PM    <DIR>          __pycache__\n",
      "06/07/2020  07:56 PM             2,221 _main.py\n",
      "05/27/2020  05:07 AM         4,725,252 dictionary.csv\n",
      "06/07/2020  08:44 PM             1,238 get_random.py\n",
      "06/07/2020  08:36 PM                 0 main.py\n",
      "05/27/2020  10:29 AM             1,222 pseudocode.md\n",
      "05/27/2020  10:31 AM               796 README.md\n",
      "05/31/2020  09:24 PM             1,961 set_difficulty.py\n",
      "05/31/2020  09:22 PM               147 start_game.py\n",
      "06/07/2020  08:38 PM               622 Untitled.ipynb\n",
      "05/03/2020  08:30 PM         4,234,915 words_alpha.txt\n",
      "              11 File(s)      8,968,375 bytes\n",
      "               4 Dir(s)  15,741,853,696 bytes free\n"
     ]
    }
   ],
   "source": [
    "ls"
   ]
  },
  {
   "cell_type": "code",
   "execution_count": 4,
   "metadata": {},
   "outputs": [
    {
     "data": {
      "text/plain": [
       "'dippers'"
      ]
     },
     "execution_count": 4,
     "metadata": {},
     "output_type": "execute_result"
    }
   ],
   "source": [
    "get_random(5, 10, 'words_alpha.txt')"
   ]
  },
  {
   "cell_type": "code",
   "execution_count": 6,
   "metadata": {},
   "outputs": [
    {
     "name": "stdin",
     "output_type": "stream",
     "text": [
      "Please choose a difficulty level by typing the corresponding number.\n",
      "            Enter 0 to exit\n",
      "            1 - Easy\n",
      "            2 - Normal\n",
      "            3 - Hard\n",
      "            4 - Impossible\n",
      "\n",
      "            Enter 0 to exit\n",
      "             1\n"
     ]
    }
   ],
   "source": [
    "difficulty = set_difficulty()"
   ]
  },
  {
   "cell_type": "code",
   "execution_count": 7,
   "metadata": {},
   "outputs": [
    {
     "data": {
      "text/plain": [
       "{'min_word_length': 5, 'max_word_length': 6, 'number_of_tries': 6}"
      ]
     },
     "execution_count": 7,
     "metadata": {},
     "output_type": "execute_result"
    }
   ],
   "source": [
    "difficulty"
   ]
  },
  {
   "cell_type": "code",
   "execution_count": 8,
   "metadata": {},
   "outputs": [
    {
     "data": {
      "text/plain": [
       "'caners'"
      ]
     },
     "execution_count": 8,
     "metadata": {},
     "output_type": "execute_result"
    }
   ],
   "source": [
    "WORDLIST = 'words_alpha.txt'\n",
    "get_random(difficulty['min_word_length'], difficulty['max_word_length'], WORDLIST)"
   ]
  },
  {
   "cell_type": "code",
   "execution_count": 2,
   "metadata": {},
   "outputs": [
    {
     "name": "stdin",
     "output_type": "stream",
     "text": [
      "Please choose a difficulty level by typing the corresponding number.\n",
      "            Enter 0 to exit\n",
      "            1 - Easy\n",
      "            2 - Normal\n",
      "            3 - Hard\n",
      "            4 - Impossible\n",
      "\n",
      "            Enter 0 to exit\n",
      "             1\n"
     ]
    },
    {
     "name": "stdout",
     "output_type": "stream",
     "text": [
      "aways\n",
      "{'min_word_length': 5, 'max_word_length': 6, 'number_of_tries': 6}\n"
     ]
    }
   ],
   "source": [
    "from set_difficulty import set_difficulty\n",
    "from get_random import get_random\n",
    "\n",
    "difficulty = set_difficulty()\n",
    "WORDLIST = 'words_alpha.txt'\n",
    "\n",
    "if difficulty:\n",
    "    random_word = get_random(difficulty['min_word_length'], difficulty['max_word_length'], WORDLIST)\n",
    "    print(random_word)\n",
    "    print(difficulty)\n",
    "else:\n",
    "    print(\"Code will now exit\")"
   ]
  },
  {
   "cell_type": "code",
   "execution_count": 3,
   "metadata": {},
   "outputs": [],
   "source": [
    "# get single letter from user\n",
    "# if correct, inform user, don't decrement number of tries\n",
    "# if wrong, inform user, decrement number of tries"
   ]
  },
  {
   "cell_type": "code",
   "execution_count": 4,
   "metadata": {},
   "outputs": [
    {
     "data": {
      "text/plain": [
       "'aways'"
      ]
     },
     "execution_count": 4,
     "metadata": {},
     "output_type": "execute_result"
    }
   ],
   "source": [
    "random_word"
   ]
  },
  {
   "cell_type": "code",
   "execution_count": 5,
   "metadata": {},
   "outputs": [
    {
     "data": {
      "text/plain": [
       "{'min_word_length': 5, 'max_word_length': 6, 'number_of_tries': 6}"
      ]
     },
     "execution_count": 5,
     "metadata": {},
     "output_type": "execute_result"
    }
   ],
   "source": [
    "difficulty"
   ]
  },
  {
   "cell_type": "code",
   "execution_count": 6,
   "metadata": {},
   "outputs": [
    {
     "data": {
      "text/plain": [
       "6"
      ]
     },
     "execution_count": 6,
     "metadata": {},
     "output_type": "execute_result"
    }
   ],
   "source": [
    "number_of_tries = difficulty['number_of_tries']\n",
    "number_of_tries"
   ]
  },
  {
   "cell_type": "code",
   "execution_count": 8,
   "metadata": {},
   "outputs": [],
   "source": [
    "difficulty.get('number_of_trie')"
   ]
  },
  {
   "cell_type": "code",
   "execution_count": 9,
   "metadata": {},
   "outputs": [
    {
     "ename": "KeyError",
     "evalue": "'number_of_trie'",
     "output_type": "error",
     "traceback": [
      "\u001b[1;31m---------------------------------------------------------------------------\u001b[0m",
      "\u001b[1;31mKeyError\u001b[0m                                  Traceback (most recent call last)",
      "\u001b[1;32m<ipython-input-9-158eb805fa53>\u001b[0m in \u001b[0;36m<module>\u001b[1;34m\u001b[0m\n\u001b[1;32m----> 1\u001b[1;33m \u001b[0mdifficulty\u001b[0m\u001b[1;33m[\u001b[0m\u001b[1;34m'number_of_trie'\u001b[0m\u001b[1;33m]\u001b[0m\u001b[1;33m\u001b[0m\u001b[1;33m\u001b[0m\u001b[0m\n\u001b[0m",
      "\u001b[1;31mKeyError\u001b[0m: 'number_of_trie'"
     ]
    }
   ],
   "source": [
    "difficulty['number_of_trie']"
   ]
  },
  {
   "cell_type": "code",
   "execution_count": 10,
   "metadata": {},
   "outputs": [
    {
     "data": {
      "text/plain": [
       "6"
      ]
     },
     "execution_count": 10,
     "metadata": {},
     "output_type": "execute_result"
    }
   ],
   "source": [
    "number_of_tries = difficulty['number_of_tries']\n",
    "number_of_tries"
   ]
  },
  {
   "cell_type": "code",
   "execution_count": 11,
   "metadata": {},
   "outputs": [],
   "source": [
    "# countdown from 6\n",
    "# get single letter from user"
   ]
  },
  {
   "cell_type": "code",
   "execution_count": 12,
   "metadata": {},
   "outputs": [
    {
     "name": "stdin",
     "output_type": "stream",
     "text": [
      "Please guess a letter in the hidden word\n",
      " e\n"
     ]
    },
    {
     "name": "stdout",
     "output_type": "stream",
     "text": [
      "Wrong letter, please try again\n",
      "5\n"
     ]
    },
    {
     "name": "stdin",
     "output_type": "stream",
     "text": [
      "Please guess a letter in the hidden word\n",
      " a\n"
     ]
    },
    {
     "name": "stdout",
     "output_type": "stream",
     "text": [
      "a\n",
      "5\n"
     ]
    },
    {
     "name": "stdin",
     "output_type": "stream",
     "text": [
      "Please guess a letter in the hidden word\n",
      " e\n"
     ]
    },
    {
     "name": "stdout",
     "output_type": "stream",
     "text": [
      "Wrong letter, please try again\n",
      "4\n"
     ]
    },
    {
     "name": "stdin",
     "output_type": "stream",
     "text": [
      "Please guess a letter in the hidden word\n",
      " e\n"
     ]
    },
    {
     "name": "stdout",
     "output_type": "stream",
     "text": [
      "Wrong letter, please try again\n",
      "3\n"
     ]
    },
    {
     "name": "stdin",
     "output_type": "stream",
     "text": [
      "Please guess a letter in the hidden word\n",
      " e\n"
     ]
    },
    {
     "name": "stdout",
     "output_type": "stream",
     "text": [
      "Wrong letter, please try again\n",
      "2\n"
     ]
    },
    {
     "name": "stdin",
     "output_type": "stream",
     "text": [
      "Please guess a letter in the hidden word\n",
      " e\n"
     ]
    },
    {
     "name": "stdout",
     "output_type": "stream",
     "text": [
      "Wrong letter, please try again\n",
      "1\n"
     ]
    },
    {
     "name": "stdin",
     "output_type": "stream",
     "text": [
      "Please guess a letter in the hidden word\n",
      " e\n"
     ]
    },
    {
     "name": "stdout",
     "output_type": "stream",
     "text": [
      "Wrong letter, please try again\n",
      "0\n"
     ]
    }
   ],
   "source": [
    "while number_of_tries > 0:\n",
    "    letter = input(\"Please guess a letter in the hidden word\\n\")\n",
    "    if letter in random_word:\n",
    "        print(letter)\n",
    "    else:\n",
    "        number_of_tries -= 1\n",
    "        print(\"Wrong letter, please try again\")\n",
    "    print(number_of_tries)"
   ]
  },
  {
   "cell_type": "code",
   "execution_count": 14,
   "metadata": {},
   "outputs": [
    {
     "name": "stdin",
     "output_type": "stream",
     "text": [
      "Please guess a letter in the hidden word\n",
      " re\n"
     ]
    },
    {
     "name": "stdout",
     "output_type": "stream",
     "text": [
      "Wrong letter, please try again\n",
      "2\n"
     ]
    },
    {
     "name": "stdin",
     "output_type": "stream",
     "text": [
      "Please guess a letter in the hidden word\n",
      " re\n"
     ]
    },
    {
     "name": "stdout",
     "output_type": "stream",
     "text": [
      "Wrong letter, please try again\n",
      "1\n"
     ]
    },
    {
     "name": "stdin",
     "output_type": "stream",
     "text": [
      "Please guess a letter in the hidden word\n",
      " re\n"
     ]
    },
    {
     "name": "stdout",
     "output_type": "stream",
     "text": [
      "Wrong letter, please try again\n",
      "0\n"
     ]
    }
   ],
   "source": [
    "random_word = 'aways'\n",
    "number_of_tries = 3\n",
    "while number_of_tries > 0:\n",
    "    letter = input(\"Please guess a letter in the hidden word\\n\")\n",
    "    if letter in random_word:\n",
    "        print(letter)\n",
    "    else:\n",
    "        number_of_tries -= 1\n",
    "        print(\"Wrong letter, please try again\")\n",
    "    print(number_of_tries)"
   ]
  },
  {
   "cell_type": "code",
   "execution_count": 22,
   "metadata": {},
   "outputs": [
    {
     "name": "stdin",
     "output_type": "stream",
     "text": [
      "Please guess a letter in the hidden word\n",
      " \n"
     ]
    },
    {
     "name": "stdout",
     "output_type": "stream",
     "text": [
      "Wrong input, please try again\n"
     ]
    },
    {
     "name": "stdin",
     "output_type": "stream",
     "text": [
      "Please guess a letter in the hidden word\n",
      " 5\n"
     ]
    },
    {
     "name": "stdout",
     "output_type": "stream",
     "text": [
      "Wrong input, please try again\n"
     ]
    },
    {
     "name": "stdin",
     "output_type": "stream",
     "text": [
      "Please guess a letter in the hidden word\n",
      " .\n"
     ]
    },
    {
     "name": "stdout",
     "output_type": "stream",
     "text": [
      "Wrong input, please try again\n"
     ]
    },
    {
     "name": "stdin",
     "output_type": "stream",
     "text": [
      "Please guess a letter in the hidden word\n",
      " ,\n"
     ]
    },
    {
     "name": "stdout",
     "output_type": "stream",
     "text": [
      "Wrong input, please try again\n"
     ]
    },
    {
     "name": "stdin",
     "output_type": "stream",
     "text": [
      "Please guess a letter in the hidden word\n",
      " ^\n"
     ]
    },
    {
     "name": "stdout",
     "output_type": "stream",
     "text": [
      "Wrong input, please try again\n"
     ]
    },
    {
     "name": "stdin",
     "output_type": "stream",
     "text": [
      "Please guess a letter in the hidden word\n",
      " e\n"
     ]
    },
    {
     "name": "stdout",
     "output_type": "stream",
     "text": [
      "Wrong letter, please try again\n",
      "0\n"
     ]
    }
   ],
   "source": [
    "random_word = 'aways'\n",
    "number_of_tries = 1\n",
    "while number_of_tries > 0:\n",
    "    letter = input(\"Please guess a letter in the hidden word\\n\")\n",
    "    # check if letter is a character // length of letter = 1\n",
    "    if (len(letter) != 1) or (not letter.isalpha()) or (not letter):\n",
    "        print(\"Wrong input, please try again\")\n",
    "        continue # breaks out the current iteration of the loop\n",
    "    if letter in random_word:\n",
    "        print(letter)\n",
    "    else:\n",
    "        number_of_tries -= 1\n",
    "        print(\"Wrong letter, please try again\")\n",
    "    print(number_of_tries)"
   ]
  },
  {
   "cell_type": "code",
   "execution_count": 24,
   "metadata": {},
   "outputs": [
    {
     "name": "stdin",
     "output_type": "stream",
     "text": [
      "Please guess a letter in the hidden word\n",
      " a\n"
     ]
    },
    {
     "name": "stdout",
     "output_type": "stream",
     "text": [
      "a\n",
      "1\n"
     ]
    },
    {
     "name": "stdin",
     "output_type": "stream",
     "text": [
      "Please guess a letter in the hidden word\n",
      " a\n"
     ]
    },
    {
     "name": "stdout",
     "output_type": "stream",
     "text": [
      "You have already guessed this letter, please try again\n",
      "['a']\n",
      "a\n",
      "1\n"
     ]
    },
    {
     "name": "stdin",
     "output_type": "stream",
     "text": [
      "Please guess a letter in the hidden word\n",
      " w\n"
     ]
    },
    {
     "name": "stdout",
     "output_type": "stream",
     "text": [
      "w\n",
      "1\n"
     ]
    },
    {
     "name": "stdin",
     "output_type": "stream",
     "text": [
      "Please guess a letter in the hidden word\n",
      " w\n"
     ]
    },
    {
     "name": "stdout",
     "output_type": "stream",
     "text": [
      "You have already guessed this letter, please try again\n",
      "['a', 'w']\n",
      "w\n",
      "1\n"
     ]
    },
    {
     "name": "stdin",
     "output_type": "stream",
     "text": [
      "Please guess a letter in the hidden word\n",
      " a\n"
     ]
    },
    {
     "name": "stdout",
     "output_type": "stream",
     "text": [
      "You have already guessed this letter, please try again\n",
      "['a', 'w']\n",
      "a\n",
      "1\n"
     ]
    },
    {
     "name": "stdin",
     "output_type": "stream",
     "text": [
      "Please guess a letter in the hidden word\n",
      " y\n"
     ]
    },
    {
     "name": "stdout",
     "output_type": "stream",
     "text": [
      "y\n",
      "1\n"
     ]
    },
    {
     "name": "stdin",
     "output_type": "stream",
     "text": [
      "Please guess a letter in the hidden word\n",
      " y\n"
     ]
    },
    {
     "name": "stdout",
     "output_type": "stream",
     "text": [
      "You have already guessed this letter, please try again\n",
      "['a', 'w', 'y']\n",
      "y\n",
      "1\n"
     ]
    },
    {
     "name": "stdin",
     "output_type": "stream",
     "text": [
      "Please guess a letter in the hidden word\n",
      " e\n"
     ]
    },
    {
     "name": "stdout",
     "output_type": "stream",
     "text": [
      "Wrong letter, please try again\n",
      "0\n"
     ]
    }
   ],
   "source": [
    "random_word = 'aways'\n",
    "number_of_tries = 1\n",
    "guessed_letters = []\n",
    "while number_of_tries > 0:\n",
    "    letter = input(\"Please guess a letter in the hidden word\\n\")\n",
    "    # check if letter is a character // length of letter = 1\n",
    "    if (len(letter) != 1) or (not letter.isalpha()) or (not letter):\n",
    "        print(\"Wrong input, please try again\")\n",
    "        continue # breaks out the current iteration of the loop\n",
    "    if letter in guessed_letters:\n",
    "        print(\"You have already guessed this letter, please try again\")\n",
    "        print(guessed_letters)\n",
    "    else:\n",
    "        guessed_letters.append(letter)\n",
    "    if letter in random_word:\n",
    "        print(letter)\n",
    "    else:\n",
    "        number_of_tries -= 1\n",
    "        print(\"Wrong letter, please try again\")\n",
    "#     print(number_of_tries)"
   ]
  },
  {
   "cell_type": "code",
   "execution_count": 33,
   "metadata": {},
   "outputs": [
    {
     "name": "stdin",
     "output_type": "stream",
     "text": [
      "Please guess a letter in the hidden word\n",
      " a\n"
     ]
    },
    {
     "name": "stdout",
     "output_type": "stream",
     "text": [
      "You have guessed a correct letter. Excellent!\n",
      "aways wys\n"
     ]
    },
    {
     "name": "stdin",
     "output_type": "stream",
     "text": [
      "Please guess a letter in the hidden word\n",
      " e\n"
     ]
    },
    {
     "name": "stdout",
     "output_type": "stream",
     "text": [
      "Wrong letter, please try again\n",
      "Sadly, you have run out of tries without guessing the word....\n",
      "    The word is AWAYS\n",
      "    GAME OVER!!!\n",
      "    \n"
     ]
    }
   ],
   "source": [
    "random_word = 'aways'\n",
    "number_of_tries = 1\n",
    "guessed_letters = []\n",
    "new_word = random_word\n",
    "while number_of_tries > 0:\n",
    "    letter = input(\"Please guess a letter in the hidden word\\n\")\n",
    "    # check if letter is a character // length of letter = 1\n",
    "    if (len(letter) != 1) or (not letter.isalpha()) or (not letter):\n",
    "        print(\"Wrong input, please try again\")\n",
    "        continue # breaks out the current iteration of the loop\n",
    "    if letter in guessed_letters:\n",
    "        print(\"You have already guessed this letter, please try again\")\n",
    "        print(guessed_letters)\n",
    "    else:\n",
    "        guessed_letters.append(letter)\n",
    "        \n",
    "    # if letter in word\n",
    "    if letter in random_word:\n",
    "        print(\"You have guessed a correct letter. Excellent!\")\n",
    "        new_word = new_word.replace(letter, '')\n",
    "        print(random_word, new_word)\n",
    "    else:\n",
    "        number_of_tries -= 1\n",
    "        print(\"Wrong letter, please try again\")\n",
    "        \n",
    "    # keep track of the length of the word\n",
    "    if len(new_word) == 0:\n",
    "        print(\"You have successfully guessed all the letters.\\nCongratulations!!!\")\n",
    "        break\n",
    "#     print(number_of_tries)\n",
    "else:\n",
    "    print(f\"\"\"Sadly, you have run out of tries without guessing the word....\n",
    "    The word is {random_word.upper()}\n",
    "    GAME OVER!!!\n",
    "    \"\"\")"
   ]
  },
  {
   "cell_type": "markdown",
   "metadata": {},
   "source": [
    "https://t.me/PyDataCo"
   ]
  },
  {
   "cell_type": "markdown",
   "metadata": {},
   "source": [
    "https://bit.ly/PyDataCo"
   ]
  },
  {
   "cell_type": "markdown",
   "metadata": {},
   "source": [
    "kcemenike@pydata.co"
   ]
  },
  {
   "cell_type": "code",
   "execution_count": 1,
   "metadata": {},
   "outputs": [],
   "source": [
    "def sumx(a, b):\n",
    "    return a+b"
   ]
  },
  {
   "cell_type": "code",
   "execution_count": 2,
   "metadata": {},
   "outputs": [
    {
     "data": {
      "text/plain": [
       "4"
      ]
     },
     "execution_count": 2,
     "metadata": {},
     "output_type": "execute_result"
    }
   ],
   "source": [
    "sumx(1, 3)"
   ]
  },
  {
   "cell_type": "code",
   "execution_count": 3,
   "metadata": {},
   "outputs": [
    {
     "ename": "TypeError",
     "evalue": "sumx() missing 2 required positional arguments: 'a' and 'b'",
     "output_type": "error",
     "traceback": [
      "\u001b[1;31m---------------------------------------------------------------------------\u001b[0m",
      "\u001b[1;31mTypeError\u001b[0m                                 Traceback (most recent call last)",
      "\u001b[1;32m<ipython-input-3-6237b146e396>\u001b[0m in \u001b[0;36m<module>\u001b[1;34m\u001b[0m\n\u001b[1;32m----> 1\u001b[1;33m \u001b[0msumx\u001b[0m\u001b[1;33m(\u001b[0m\u001b[1;33m)\u001b[0m\u001b[1;33m\u001b[0m\u001b[1;33m\u001b[0m\u001b[0m\n\u001b[0m",
      "\u001b[1;31mTypeError\u001b[0m: sumx() missing 2 required positional arguments: 'a' and 'b'"
     ]
    }
   ],
   "source": [
    "sumx()"
   ]
  },
  {
   "cell_type": "code",
   "execution_count": 4,
   "metadata": {},
   "outputs": [],
   "source": [
    "def sumx(a=1, b=5):\n",
    "    return a+b"
   ]
  },
  {
   "cell_type": "code",
   "execution_count": 5,
   "metadata": {},
   "outputs": [
    {
     "data": {
      "text/plain": [
       "7"
      ]
     },
     "execution_count": 5,
     "metadata": {},
     "output_type": "execute_result"
    }
   ],
   "source": [
    "sumx(4, 3)"
   ]
  },
  {
   "cell_type": "code",
   "execution_count": 6,
   "metadata": {},
   "outputs": [
    {
     "data": {
      "text/plain": [
       "6"
      ]
     },
     "execution_count": 6,
     "metadata": {},
     "output_type": "execute_result"
    }
   ],
   "source": [
    "sumx()"
   ]
  },
  {
   "cell_type": "code",
   "execution_count": null,
   "metadata": {},
   "outputs": [],
   "source": [
    "matrix = list(np.array([[1 if letter in item else 0 for item in random_word] for letter in guessed_letters], dtype=int).sum(axis=0).astype(str))"
   ]
  },
  {
   "cell_type": "code",
   "execution_count": 7,
   "metadata": {},
   "outputs": [
    {
     "name": "stdout",
     "output_type": "stream",
     "text": [
      "['a', 'b', 'c', 'd']\n"
     ]
    }
   ],
   "source": [
    "guessed_letters = ['a', 'b', 'c', 'd']\n",
    "print(guessed_letters)"
   ]
  },
  {
   "cell_type": "code",
   "execution_count": 9,
   "metadata": {},
   "outputs": [],
   "source": [
    "correct_letters = []\n",
    "for letter in guessed_letters:\n",
    "    correct_letters.append(letter)"
   ]
  },
  {
   "cell_type": "code",
   "execution_count": 10,
   "metadata": {},
   "outputs": [
    {
     "data": {
      "text/plain": [
       "['a', 'b', 'c', 'd']"
      ]
     },
     "execution_count": 10,
     "metadata": {},
     "output_type": "execute_result"
    }
   ],
   "source": [
    "correct_letters"
   ]
  },
  {
   "cell_type": "code",
   "execution_count": 11,
   "metadata": {},
   "outputs": [
    {
     "data": {
      "text/plain": [
       "['a', 'b', 'c', 'd']"
      ]
     },
     "execution_count": 11,
     "metadata": {},
     "output_type": "execute_result"
    }
   ],
   "source": [
    "[letter for letter in guessed_letters] # list comprehension"
   ]
  },
  {
   "cell_type": "code",
   "execution_count": 12,
   "metadata": {},
   "outputs": [],
   "source": [
    "random_word = 'cowboy'"
   ]
  },
  {
   "cell_type": "code",
   "execution_count": 16,
   "metadata": {},
   "outputs": [],
   "source": [
    "def check_letter(guess):\n",
    "    correct_letters = []\n",
    "    print(guessed_letters)\n",
    "    for letter in guessed_letters:\n",
    "        if guess in random_word:\n",
    "            correct_letters.append(guess)\n",
    "    return correct_letters"
   ]
  },
  {
   "cell_type": "code",
   "execution_count": 17,
   "metadata": {},
   "outputs": [
    {
     "name": "stdout",
     "output_type": "stream",
     "text": [
      "['a', 'b', 'c', 'd']\n"
     ]
    },
    {
     "data": {
      "text/plain": [
       "['o', 'o', 'o', 'o']"
      ]
     },
     "execution_count": 17,
     "metadata": {},
     "output_type": "execute_result"
    }
   ],
   "source": [
    "check_letter('o')"
   ]
  },
  {
   "cell_type": "code",
   "execution_count": 20,
   "metadata": {},
   "outputs": [
    {
     "name": "stdout",
     "output_type": "stream",
     "text": [
      "c\n",
      "o\n",
      "w\n",
      "b\n",
      "o\n",
      "y\n"
     ]
    }
   ],
   "source": [
    "for item in random_word: # random_word = 'cowboy'\n",
    "    print(item)"
   ]
  },
  {
   "cell_type": "code",
   "execution_count": 21,
   "metadata": {},
   "outputs": [
    {
     "name": "stdout",
     "output_type": "stream",
     "text": [
      "0\n",
      "1\n",
      "0\n",
      "0\n",
      "1\n",
      "0\n"
     ]
    }
   ],
   "source": [
    "for item in random_word: # random_word = 'cowboy'\n",
    "    if 'o' in item:\n",
    "        print(1)\n",
    "    else:\n",
    "        print(0)"
   ]
  },
  {
   "cell_type": "code",
   "execution_count": 22,
   "metadata": {},
   "outputs": [
    {
     "data": {
      "text/plain": [
       "[0, 1, 0, 0, 1, 0]"
      ]
     },
     "execution_count": 22,
     "metadata": {},
     "output_type": "execute_result"
    }
   ],
   "source": [
    "[1 if 'o' in item else 0 for item in random_word]"
   ]
  },
  {
   "cell_type": "code",
   "execution_count": 27,
   "metadata": {},
   "outputs": [
    {
     "data": {
      "text/plain": [
       "['a', 'o', 'b', 'w']"
      ]
     },
     "execution_count": 27,
     "metadata": {},
     "output_type": "execute_result"
    }
   ],
   "source": [
    "guessed_letters = ['a', 'o', 'b','w']\n",
    "guessed_letters"
   ]
  },
  {
   "cell_type": "code",
   "execution_count": null,
   "metadata": {},
   "outputs": [],
   "source": [
    "for letter in guessed_letters:\n",
    "    for item in random_word: # random_word = 'cowboy'\n",
    "        if letter in item: # a in c\n",
    "            print(1)\n",
    "        else:\n",
    "            print(0)"
   ]
  },
  {
   "cell_type": "code",
   "execution_count": 29,
   "metadata": {},
   "outputs": [
    {
     "data": {
      "text/plain": [
       "[[0, 0, 0, 0, 0, 0],\n",
       " [0, 1, 0, 0, 1, 0],\n",
       " [0, 0, 0, 1, 0, 0],\n",
       " [0, 0, 1, 0, 0, 0]]"
      ]
     },
     "execution_count": 29,
     "metadata": {},
     "output_type": "execute_result"
    }
   ],
   "source": [
    "[[1 if letter in item else 0 for item in random_word]for letter in guessed_letters]"
   ]
  },
  {
   "cell_type": "code",
   "execution_count": null,
   "metadata": {},
   "outputs": [],
   "source": [
    "#000000\n",
    "#010010\n",
    "#000100\n",
    "#COWBOY\n",
    "#011110\n",
    "#*OWBO*"
   ]
  },
  {
   "cell_type": "code",
   "execution_count": 30,
   "metadata": {},
   "outputs": [],
   "source": [
    "import numpy as np"
   ]
  },
  {
   "cell_type": "code",
   "execution_count": 31,
   "metadata": {},
   "outputs": [
    {
     "data": {
      "text/plain": [
       "array([[0, 0, 0, 0, 0, 0],\n",
       "       [0, 1, 0, 0, 1, 0],\n",
       "       [0, 0, 0, 1, 0, 0],\n",
       "       [0, 0, 1, 0, 0, 0]])"
      ]
     },
     "execution_count": 31,
     "metadata": {},
     "output_type": "execute_result"
    }
   ],
   "source": [
    "np.array([[1 if letter in item else 0 for item in random_word]for letter in guessed_letters])"
   ]
  },
  {
   "cell_type": "code",
   "execution_count": 35,
   "metadata": {},
   "outputs": [
    {
     "data": {
      "text/plain": [
       "array([0, 1, 1, 1, 1, 0])"
      ]
     },
     "execution_count": 35,
     "metadata": {},
     "output_type": "execute_result"
    }
   ],
   "source": [
    "np.array([[1 if letter in item else 0 for item in random_word]for letter in guessed_letters]).sum(axis=0)"
   ]
  },
  {
   "cell_type": "code",
   "execution_count": 36,
   "metadata": {},
   "outputs": [
    {
     "data": {
      "text/plain": [
       "[0, 1, 1, 1, 1, 0]"
      ]
     },
     "execution_count": 36,
     "metadata": {},
     "output_type": "execute_result"
    }
   ],
   "source": [
    "list(np.array([[1 if letter in item else 0 for item in random_word]for letter in guessed_letters]).sum(axis=0))"
   ]
  },
  {
   "cell_type": "code",
   "execution_count": 37,
   "metadata": {},
   "outputs": [
    {
     "data": {
      "text/plain": [
       "array(['0', '1', '1', '1', '1', '0'], dtype='<U11')"
      ]
     },
     "execution_count": 37,
     "metadata": {},
     "output_type": "execute_result"
    }
   ],
   "source": [
    "np.array([[1 if letter in item else 0 for item in random_word]for letter in guessed_letters]).sum(axis=0).astype(str)"
   ]
  },
  {
   "cell_type": "code",
   "execution_count": 45,
   "metadata": {},
   "outputs": [
    {
     "data": {
      "text/plain": [
       "['0', '1', '1', '1', '1', '0']"
      ]
     },
     "execution_count": 45,
     "metadata": {},
     "output_type": "execute_result"
    }
   ],
   "source": [
    "matrix = list(\n",
    "    np.array(\n",
    "        [[1 if letter in item else 0 for item in random_word]for letter in guessed_letters]\n",
    "    ).sum(axis=0).astype(str)\n",
    ")\n",
    "matrix"
   ]
  },
  {
   "cell_type": "code",
   "execution_count": 40,
   "metadata": {},
   "outputs": [
    {
     "data": {
      "text/plain": [
       "['a', 'o', 'b', 'w']"
      ]
     },
     "execution_count": 40,
     "metadata": {},
     "output_type": "execute_result"
    }
   ],
   "source": [
    "guessed_letters"
   ]
  },
  {
   "cell_type": "code",
   "execution_count": 42,
   "metadata": {},
   "outputs": [
    {
     "name": "stdout",
     "output_type": "stream",
     "text": [
      "0 a\n",
      "1 o\n",
      "2 b\n",
      "3 w\n"
     ]
    }
   ],
   "source": [
    "for index, letter in enumerate(guessed_letters):\n",
    "    print(index, letter)"
   ]
  },
  {
   "cell_type": "code",
   "execution_count": 43,
   "metadata": {},
   "outputs": [],
   "source": [
    "#['0', '1', '1', '1', '1', '0'] # matrix\n",
    "#['C', 'O','W', 'B', 'O', 'Y'] # random_word\n",
    "#['*', 'O', 'W', 'B', 'O', *]"
   ]
  },
  {
   "cell_type": "code",
   "execution_count": 44,
   "metadata": {},
   "outputs": [
    {
     "data": {
      "text/plain": [
       "'cowboy'"
      ]
     },
     "execution_count": 44,
     "metadata": {},
     "output_type": "execute_result"
    }
   ],
   "source": [
    "random_word"
   ]
  },
  {
   "cell_type": "code",
   "execution_count": 49,
   "metadata": {},
   "outputs": [
    {
     "name": "stdout",
     "output_type": "stream",
     "text": [
      "0\n",
      "1\n",
      "1\n",
      "1\n",
      "1\n",
      "0\n"
     ]
    }
   ],
   "source": [
    "obfuscated_word = []\n",
    "for index, item in enumerate(random_word):\n",
    "    print(matrix[index])"
   ]
  },
  {
   "cell_type": "code",
   "execution_count": 51,
   "metadata": {},
   "outputs": [
    {
     "name": "stdout",
     "output_type": "stream",
     "text": [
      "*\n",
      "o\n",
      "w\n",
      "b\n",
      "o\n",
      "*\n"
     ]
    }
   ],
   "source": [
    "obfuscated_word = []\n",
    "for index, item in enumerate(random_word): # COWBOY\n",
    "    if matrix[index] == '0':\n",
    "        print(\"*\")\n",
    "    else:\n",
    "        print(item)"
   ]
  },
  {
   "cell_type": "code",
   "execution_count": 52,
   "metadata": {},
   "outputs": [
    {
     "data": {
      "text/plain": [
       "['*', 'o', 'w', 'b', 'o', '*']"
      ]
     },
     "execution_count": 52,
     "metadata": {},
     "output_type": "execute_result"
    }
   ],
   "source": [
    "obfuscated_word = []\n",
    "for index, item in enumerate(random_word): # COWBOY\n",
    "    if matrix[index] == '0':\n",
    "        obfuscated_word.append(\"*\")\n",
    "    else:\n",
    "        obfuscated_word.append(item)\n",
    "obfuscated_word"
   ]
  },
  {
   "cell_type": "code",
   "execution_count": 54,
   "metadata": {},
   "outputs": [
    {
     "data": {
      "text/plain": [
       "'*OWBO*'"
      ]
     },
     "execution_count": 54,
     "metadata": {},
     "output_type": "execute_result"
    }
   ],
   "source": [
    "''.join(obfuscated_word).upper()"
   ]
  },
  {
   "cell_type": "code",
   "execution_count": 62,
   "metadata": {},
   "outputs": [
    {
     "name": "stdout",
     "output_type": "stream",
     "text": [
      "COWBOY\n"
     ]
    }
   ],
   "source": [
    "random_word = 'cowboy'\n",
    "guessed_letters = ['a', 'w', 'b', 'i', 'o', 'c', 'y']\n",
    "import numpy as np\n",
    "matrix = list(\n",
    "    np.array(\n",
    "        [[1 if letter in item else 0 for item in random_word]for letter in guessed_letters]\n",
    "    ).sum(axis=0).astype(str)\n",
    ")\n",
    "obfuscated_word = []\n",
    "for index, item in enumerate(random_word): # COWBOY\n",
    "    if matrix[index] == '0':\n",
    "        obfuscated_word.append(\"*\")\n",
    "    else:\n",
    "        obfuscated_word.append(item)\n",
    "print(''.join(obfuscated_word).upper())"
   ]
  },
  {
   "cell_type": "code",
   "execution_count": null,
   "metadata": {},
   "outputs": [],
   "source": []
  }
 ],
 "metadata": {
  "kernelspec": {
   "display_name": "Python 3",
   "language": "python",
   "name": "python3"
  },
  "language_info": {
   "codemirror_mode": {
    "name": "ipython",
    "version": 3
   },
   "file_extension": ".py",
   "mimetype": "text/x-python",
   "name": "python",
   "nbconvert_exporter": "python",
   "pygments_lexer": "ipython3",
   "version": "3.8.2"
  }
 },
 "nbformat": 4,
 "nbformat_minor": 4
}
