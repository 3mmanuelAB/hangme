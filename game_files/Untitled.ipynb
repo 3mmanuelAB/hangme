{
 "cells": [
  {
   "cell_type": "code",
   "execution_count": 1,
   "metadata": {},
   "outputs": [],
   "source": [
    "from set_difficulty import set_difficulty\n",
    "from get_random import get_random"
   ]
  },
  {
   "cell_type": "code",
   "execution_count": 2,
   "metadata": {},
   "outputs": [
    {
     "name": "stdout",
     "output_type": "stream",
     "text": [
      " Volume in drive C is Windows\n",
      " Volume Serial Number is 66FB-D0BD\n",
      "\n",
      " Directory of C:\\Users\\kelechi.emenike\\OneDrive\\code\\hangme\\game_files\n",
      "\n",
      "06/07/2020  08:44 PM    <DIR>          .\n",
      "06/07/2020  08:44 PM    <DIR>          ..\n",
      "06/07/2020  08:36 PM    <DIR>          .ipynb_checkpoints\n",
      "05/27/2020  10:09 AM                 1 __init__.py\n",
      "06/07/2020  08:44 PM    <DIR>          __pycache__\n",
      "06/07/2020  07:56 PM             2,221 _main.py\n",
      "05/27/2020  05:07 AM         4,725,252 dictionary.csv\n",
      "06/07/2020  08:44 PM             1,238 get_random.py\n",
      "06/07/2020  08:36 PM                 0 main.py\n",
      "05/27/2020  10:29 AM             1,222 pseudocode.md\n",
      "05/27/2020  10:31 AM               796 README.md\n",
      "05/31/2020  09:24 PM             1,961 set_difficulty.py\n",
      "05/31/2020  09:22 PM               147 start_game.py\n",
      "06/07/2020  08:38 PM               622 Untitled.ipynb\n",
      "05/03/2020  08:30 PM         4,234,915 words_alpha.txt\n",
      "              11 File(s)      8,968,375 bytes\n",
      "               4 Dir(s)  15,741,853,696 bytes free\n"
     ]
    }
   ],
   "source": [
    "ls"
   ]
  },
  {
   "cell_type": "code",
   "execution_count": 4,
   "metadata": {},
   "outputs": [
    {
     "data": {
      "text/plain": [
       "'dippers'"
      ]
     },
     "execution_count": 4,
     "metadata": {},
     "output_type": "execute_result"
    }
   ],
   "source": [
    "get_random(5, 10, 'words_alpha.txt')"
   ]
  },
  {
   "cell_type": "code",
   "execution_count": 6,
   "metadata": {},
   "outputs": [
    {
     "name": "stdin",
     "output_type": "stream",
     "text": [
      "Please choose a difficulty level by typing the corresponding number.\n",
      "            Enter 0 to exit\n",
      "            1 - Easy\n",
      "            2 - Normal\n",
      "            3 - Hard\n",
      "            4 - Impossible\n",
      "\n",
      "            Enter 0 to exit\n",
      "             1\n"
     ]
    }
   ],
   "source": [
    "difficulty = set_difficulty()"
   ]
  },
  {
   "cell_type": "code",
   "execution_count": 7,
   "metadata": {},
   "outputs": [
    {
     "data": {
      "text/plain": [
       "{'min_word_length': 5, 'max_word_length': 6, 'number_of_tries': 6}"
      ]
     },
     "execution_count": 7,
     "metadata": {},
     "output_type": "execute_result"
    }
   ],
   "source": [
    "difficulty"
   ]
  },
  {
   "cell_type": "code",
   "execution_count": 8,
   "metadata": {},
   "outputs": [
    {
     "data": {
      "text/plain": [
       "'caners'"
      ]
     },
     "execution_count": 8,
     "metadata": {},
     "output_type": "execute_result"
    }
   ],
   "source": [
    "WORDLIST = 'words_alpha.txt'\n",
    "get_random(difficulty['min_word_length'], difficulty['max_word_length'], WORDLIST)"
   ]
  },
  {
   "cell_type": "code",
   "execution_count": 2,
   "metadata": {},
   "outputs": [
    {
     "name": "stdin",
     "output_type": "stream",
     "text": [
      "Please choose a difficulty level by typing the corresponding number.\n",
      "            Enter 0 to exit\n",
      "            1 - Easy\n",
      "            2 - Normal\n",
      "            3 - Hard\n",
      "            4 - Impossible\n",
      "\n",
      "            Enter 0 to exit\n",
      "             1\n"
     ]
    },
    {
     "name": "stdout",
     "output_type": "stream",
     "text": [
      "aways\n",
      "{'min_word_length': 5, 'max_word_length': 6, 'number_of_tries': 6}\n"
     ]
    }
   ],
   "source": [
    "from set_difficulty import set_difficulty\n",
    "from get_random import get_random\n",
    "\n",
    "difficulty = set_difficulty()\n",
    "WORDLIST = 'words_alpha.txt'\n",
    "\n",
    "if difficulty:\n",
    "    random_word = get_random(difficulty['min_word_length'], difficulty['max_word_length'], WORDLIST)\n",
    "    print(random_word)\n",
    "    print(difficulty)\n",
    "else:\n",
    "    print(\"Code will now exit\")"
   ]
  },
  {
   "cell_type": "code",
   "execution_count": 3,
   "metadata": {},
   "outputs": [],
   "source": [
    "# get single letter from user\n",
    "# if correct, inform user, don't decrement number of tries\n",
    "# if wrong, inform user, decrement number of tries"
   ]
  },
  {
   "cell_type": "code",
   "execution_count": 4,
   "metadata": {},
   "outputs": [
    {
     "data": {
      "text/plain": [
       "'aways'"
      ]
     },
     "execution_count": 4,
     "metadata": {},
     "output_type": "execute_result"
    }
   ],
   "source": [
    "random_word"
   ]
  },
  {
   "cell_type": "code",
   "execution_count": 5,
   "metadata": {},
   "outputs": [
    {
     "data": {
      "text/plain": [
       "{'min_word_length': 5, 'max_word_length': 6, 'number_of_tries': 6}"
      ]
     },
     "execution_count": 5,
     "metadata": {},
     "output_type": "execute_result"
    }
   ],
   "source": [
    "difficulty"
   ]
  },
  {
   "cell_type": "code",
   "execution_count": 6,
   "metadata": {},
   "outputs": [
    {
     "data": {
      "text/plain": [
       "6"
      ]
     },
     "execution_count": 6,
     "metadata": {},
     "output_type": "execute_result"
    }
   ],
   "source": [
    "number_of_tries = difficulty['number_of_tries']\n",
    "number_of_tries"
   ]
  },
  {
   "cell_type": "code",
   "execution_count": 8,
   "metadata": {},
   "outputs": [],
   "source": [
    "difficulty.get('number_of_trie')"
   ]
  },
  {
   "cell_type": "code",
   "execution_count": 9,
   "metadata": {},
   "outputs": [
    {
     "ename": "KeyError",
     "evalue": "'number_of_trie'",
     "output_type": "error",
     "traceback": [
      "\u001b[1;31m---------------------------------------------------------------------------\u001b[0m",
      "\u001b[1;31mKeyError\u001b[0m                                  Traceback (most recent call last)",
      "\u001b[1;32m<ipython-input-9-158eb805fa53>\u001b[0m in \u001b[0;36m<module>\u001b[1;34m\u001b[0m\n\u001b[1;32m----> 1\u001b[1;33m \u001b[0mdifficulty\u001b[0m\u001b[1;33m[\u001b[0m\u001b[1;34m'number_of_trie'\u001b[0m\u001b[1;33m]\u001b[0m\u001b[1;33m\u001b[0m\u001b[1;33m\u001b[0m\u001b[0m\n\u001b[0m",
      "\u001b[1;31mKeyError\u001b[0m: 'number_of_trie'"
     ]
    }
   ],
   "source": [
    "difficulty['number_of_trie']"
   ]
  },
  {
   "cell_type": "code",
   "execution_count": 10,
   "metadata": {},
   "outputs": [
    {
     "data": {
      "text/plain": [
       "6"
      ]
     },
     "execution_count": 10,
     "metadata": {},
     "output_type": "execute_result"
    }
   ],
   "source": [
    "number_of_tries = difficulty['number_of_tries']\n",
    "number_of_tries"
   ]
  },
  {
   "cell_type": "code",
   "execution_count": 11,
   "metadata": {},
   "outputs": [],
   "source": [
    "# countdown from 6\n",
    "# get single letter from user"
   ]
  },
  {
   "cell_type": "code",
   "execution_count": 12,
   "metadata": {},
   "outputs": [
    {
     "name": "stdin",
     "output_type": "stream",
     "text": [
      "Please guess a letter in the hidden word\n",
      " e\n"
     ]
    },
    {
     "name": "stdout",
     "output_type": "stream",
     "text": [
      "Wrong letter, please try again\n",
      "5\n"
     ]
    },
    {
     "name": "stdin",
     "output_type": "stream",
     "text": [
      "Please guess a letter in the hidden word\n",
      " a\n"
     ]
    },
    {
     "name": "stdout",
     "output_type": "stream",
     "text": [
      "a\n",
      "5\n"
     ]
    },
    {
     "name": "stdin",
     "output_type": "stream",
     "text": [
      "Please guess a letter in the hidden word\n",
      " e\n"
     ]
    },
    {
     "name": "stdout",
     "output_type": "stream",
     "text": [
      "Wrong letter, please try again\n",
      "4\n"
     ]
    },
    {
     "name": "stdin",
     "output_type": "stream",
     "text": [
      "Please guess a letter in the hidden word\n",
      " e\n"
     ]
    },
    {
     "name": "stdout",
     "output_type": "stream",
     "text": [
      "Wrong letter, please try again\n",
      "3\n"
     ]
    },
    {
     "name": "stdin",
     "output_type": "stream",
     "text": [
      "Please guess a letter in the hidden word\n",
      " e\n"
     ]
    },
    {
     "name": "stdout",
     "output_type": "stream",
     "text": [
      "Wrong letter, please try again\n",
      "2\n"
     ]
    },
    {
     "name": "stdin",
     "output_type": "stream",
     "text": [
      "Please guess a letter in the hidden word\n",
      " e\n"
     ]
    },
    {
     "name": "stdout",
     "output_type": "stream",
     "text": [
      "Wrong letter, please try again\n",
      "1\n"
     ]
    },
    {
     "name": "stdin",
     "output_type": "stream",
     "text": [
      "Please guess a letter in the hidden word\n",
      " e\n"
     ]
    },
    {
     "name": "stdout",
     "output_type": "stream",
     "text": [
      "Wrong letter, please try again\n",
      "0\n"
     ]
    }
   ],
   "source": [
    "while number_of_tries > 0:\n",
    "    letter = input(\"Please guess a letter in the hidden word\\n\")\n",
    "    if letter in random_word:\n",
    "        print(letter)\n",
    "    else:\n",
    "        number_of_tries -= 1\n",
    "        print(\"Wrong letter, please try again\")\n",
    "    print(number_of_tries)"
   ]
  },
  {
   "cell_type": "code",
   "execution_count": 14,
   "metadata": {},
   "outputs": [
    {
     "name": "stdin",
     "output_type": "stream",
     "text": [
      "Please guess a letter in the hidden word\n",
      " re\n"
     ]
    },
    {
     "name": "stdout",
     "output_type": "stream",
     "text": [
      "Wrong letter, please try again\n",
      "2\n"
     ]
    },
    {
     "name": "stdin",
     "output_type": "stream",
     "text": [
      "Please guess a letter in the hidden word\n",
      " re\n"
     ]
    },
    {
     "name": "stdout",
     "output_type": "stream",
     "text": [
      "Wrong letter, please try again\n",
      "1\n"
     ]
    },
    {
     "name": "stdin",
     "output_type": "stream",
     "text": [
      "Please guess a letter in the hidden word\n",
      " re\n"
     ]
    },
    {
     "name": "stdout",
     "output_type": "stream",
     "text": [
      "Wrong letter, please try again\n",
      "0\n"
     ]
    }
   ],
   "source": [
    "random_word = 'aways'\n",
    "number_of_tries = 3\n",
    "while number_of_tries > 0:\n",
    "    letter = input(\"Please guess a letter in the hidden word\\n\")\n",
    "    if letter in random_word:\n",
    "        print(letter)\n",
    "    else:\n",
    "        number_of_tries -= 1\n",
    "        print(\"Wrong letter, please try again\")\n",
    "    print(number_of_tries)"
   ]
  },
  {
   "cell_type": "code",
   "execution_count": 22,
   "metadata": {},
   "outputs": [
    {
     "name": "stdin",
     "output_type": "stream",
     "text": [
      "Please guess a letter in the hidden word\n",
      " \n"
     ]
    },
    {
     "name": "stdout",
     "output_type": "stream",
     "text": [
      "Wrong input, please try again\n"
     ]
    },
    {
     "name": "stdin",
     "output_type": "stream",
     "text": [
      "Please guess a letter in the hidden word\n",
      " 5\n"
     ]
    },
    {
     "name": "stdout",
     "output_type": "stream",
     "text": [
      "Wrong input, please try again\n"
     ]
    },
    {
     "name": "stdin",
     "output_type": "stream",
     "text": [
      "Please guess a letter in the hidden word\n",
      " .\n"
     ]
    },
    {
     "name": "stdout",
     "output_type": "stream",
     "text": [
      "Wrong input, please try again\n"
     ]
    },
    {
     "name": "stdin",
     "output_type": "stream",
     "text": [
      "Please guess a letter in the hidden word\n",
      " ,\n"
     ]
    },
    {
     "name": "stdout",
     "output_type": "stream",
     "text": [
      "Wrong input, please try again\n"
     ]
    },
    {
     "name": "stdin",
     "output_type": "stream",
     "text": [
      "Please guess a letter in the hidden word\n",
      " ^\n"
     ]
    },
    {
     "name": "stdout",
     "output_type": "stream",
     "text": [
      "Wrong input, please try again\n"
     ]
    },
    {
     "name": "stdin",
     "output_type": "stream",
     "text": [
      "Please guess a letter in the hidden word\n",
      " e\n"
     ]
    },
    {
     "name": "stdout",
     "output_type": "stream",
     "text": [
      "Wrong letter, please try again\n",
      "0\n"
     ]
    }
   ],
   "source": [
    "random_word = 'aways'\n",
    "number_of_tries = 1\n",
    "while number_of_tries > 0:\n",
    "    letter = input(\"Please guess a letter in the hidden word\\n\")\n",
    "    # check if letter is a character // length of letter = 1\n",
    "    if (len(letter) != 1) or (not letter.isalpha()) or (not letter):\n",
    "        print(\"Wrong input, please try again\")\n",
    "        continue # breaks out the current iteration of the loop\n",
    "    if letter in random_word:\n",
    "        print(letter)\n",
    "    else:\n",
    "        number_of_tries -= 1\n",
    "        print(\"Wrong letter, please try again\")\n",
    "    print(number_of_tries)"
   ]
  },
  {
   "cell_type": "code",
   "execution_count": 24,
   "metadata": {},
   "outputs": [
    {
     "name": "stdin",
     "output_type": "stream",
     "text": [
      "Please guess a letter in the hidden word\n",
      " a\n"
     ]
    },
    {
     "name": "stdout",
     "output_type": "stream",
     "text": [
      "a\n",
      "1\n"
     ]
    },
    {
     "name": "stdin",
     "output_type": "stream",
     "text": [
      "Please guess a letter in the hidden word\n",
      " a\n"
     ]
    },
    {
     "name": "stdout",
     "output_type": "stream",
     "text": [
      "You have already guessed this letter, please try again\n",
      "['a']\n",
      "a\n",
      "1\n"
     ]
    },
    {
     "name": "stdin",
     "output_type": "stream",
     "text": [
      "Please guess a letter in the hidden word\n",
      " w\n"
     ]
    },
    {
     "name": "stdout",
     "output_type": "stream",
     "text": [
      "w\n",
      "1\n"
     ]
    },
    {
     "name": "stdin",
     "output_type": "stream",
     "text": [
      "Please guess a letter in the hidden word\n",
      " w\n"
     ]
    },
    {
     "name": "stdout",
     "output_type": "stream",
     "text": [
      "You have already guessed this letter, please try again\n",
      "['a', 'w']\n",
      "w\n",
      "1\n"
     ]
    },
    {
     "name": "stdin",
     "output_type": "stream",
     "text": [
      "Please guess a letter in the hidden word\n",
      " a\n"
     ]
    },
    {
     "name": "stdout",
     "output_type": "stream",
     "text": [
      "You have already guessed this letter, please try again\n",
      "['a', 'w']\n",
      "a\n",
      "1\n"
     ]
    },
    {
     "name": "stdin",
     "output_type": "stream",
     "text": [
      "Please guess a letter in the hidden word\n",
      " y\n"
     ]
    },
    {
     "name": "stdout",
     "output_type": "stream",
     "text": [
      "y\n",
      "1\n"
     ]
    },
    {
     "name": "stdin",
     "output_type": "stream",
     "text": [
      "Please guess a letter in the hidden word\n",
      " y\n"
     ]
    },
    {
     "name": "stdout",
     "output_type": "stream",
     "text": [
      "You have already guessed this letter, please try again\n",
      "['a', 'w', 'y']\n",
      "y\n",
      "1\n"
     ]
    },
    {
     "name": "stdin",
     "output_type": "stream",
     "text": [
      "Please guess a letter in the hidden word\n",
      " e\n"
     ]
    },
    {
     "name": "stdout",
     "output_type": "stream",
     "text": [
      "Wrong letter, please try again\n",
      "0\n"
     ]
    }
   ],
   "source": [
    "random_word = 'aways'\n",
    "number_of_tries = 1\n",
    "guessed_letters = []\n",
    "while number_of_tries > 0:\n",
    "    letter = input(\"Please guess a letter in the hidden word\\n\")\n",
    "    # check if letter is a character // length of letter = 1\n",
    "    if (len(letter) != 1) or (not letter.isalpha()) or (not letter):\n",
    "        print(\"Wrong input, please try again\")\n",
    "        continue # breaks out the current iteration of the loop\n",
    "    if letter in guessed_letters:\n",
    "        print(\"You have already guessed this letter, please try again\")\n",
    "        print(guessed_letters)\n",
    "    else:\n",
    "        guessed_letters.append(letter)\n",
    "    if letter in random_word:\n",
    "        print(letter)\n",
    "    else:\n",
    "        number_of_tries -= 1\n",
    "        print(\"Wrong letter, please try again\")\n",
    "#     print(number_of_tries)"
   ]
  },
  {
   "cell_type": "code",
   "execution_count": 33,
   "metadata": {},
   "outputs": [
    {
     "name": "stdin",
     "output_type": "stream",
     "text": [
      "Please guess a letter in the hidden word\n",
      " a\n"
     ]
    },
    {
     "name": "stdout",
     "output_type": "stream",
     "text": [
      "You have guessed a correct letter. Excellent!\n",
      "aways wys\n"
     ]
    },
    {
     "name": "stdin",
     "output_type": "stream",
     "text": [
      "Please guess a letter in the hidden word\n",
      " e\n"
     ]
    },
    {
     "name": "stdout",
     "output_type": "stream",
     "text": [
      "Wrong letter, please try again\n",
      "Sadly, you have run out of tries without guessing the word....\n",
      "    The word is AWAYS\n",
      "    GAME OVER!!!\n",
      "    \n"
     ]
    }
   ],
   "source": [
    "random_word = 'aways'\n",
    "number_of_tries = 1\n",
    "guessed_letters = []\n",
    "new_word = random_word\n",
    "while number_of_tries > 0:\n",
    "    letter = input(\"Please guess a letter in the hidden word\\n\")\n",
    "    # check if letter is a character // length of letter = 1\n",
    "    if (len(letter) != 1) or (not letter.isalpha()) or (not letter):\n",
    "        print(\"Wrong input, please try again\")\n",
    "        continue # breaks out the current iteration of the loop\n",
    "    if letter in guessed_letters:\n",
    "        print(\"You have already guessed this letter, please try again\")\n",
    "        print(guessed_letters)\n",
    "    else:\n",
    "        guessed_letters.append(letter)\n",
    "        \n",
    "    # if letter in word\n",
    "    if letter in random_word:\n",
    "        print(\"You have guessed a correct letter. Excellent!\")\n",
    "        new_word = new_word.replace(letter, '')\n",
    "        print(random_word, new_word)\n",
    "    else:\n",
    "        number_of_tries -= 1\n",
    "        print(\"Wrong letter, please try again\")\n",
    "        \n",
    "    # keep track of the length of the word\n",
    "    if len(new_word) == 0:\n",
    "        print(\"You have successfully guessed all the letters.\\nCongratulations!!!\")\n",
    "        break\n",
    "#     print(number_of_tries)\n",
    "else:\n",
    "    print(f\"\"\"Sadly, you have run out of tries without guessing the word....\n",
    "    The word is {random_word.upper()}\n",
    "    GAME OVER!!!\n",
    "    \"\"\")"
   ]
  },
  {
   "cell_type": "markdown",
   "metadata": {},
   "source": [
    "https://t.me/PyDataCo"
   ]
  },
  {
   "cell_type": "markdown",
   "metadata": {},
   "source": [
    "https://bit.ly/PyDataCo"
   ]
  },
  {
   "cell_type": "markdown",
   "metadata": {},
   "source": [
    "kcemenike@pydata.co"
   ]
  },
  {
   "cell_type": "code",
   "execution_count": null,
   "metadata": {},
   "outputs": [],
   "source": []
  }
 ],
 "metadata": {
  "kernelspec": {
   "display_name": "Python 3",
   "language": "python",
   "name": "python3"
  },
  "language_info": {
   "codemirror_mode": {
    "name": "ipython",
    "version": 3
   },
   "file_extension": ".py",
   "mimetype": "text/x-python",
   "name": "python",
   "nbconvert_exporter": "python",
   "pygments_lexer": "ipython3",
   "version": "3.8.2"
  }
 },
 "nbformat": 4,
 "nbformat_minor": 4
}
